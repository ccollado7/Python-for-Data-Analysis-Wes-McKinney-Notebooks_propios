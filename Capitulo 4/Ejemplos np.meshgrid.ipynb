{
 "cells": [
  {
   "cell_type": "markdown",
   "metadata": {},
   "source": [
    "## Ejemplos de np.meshgrid"
   ]
  },
  {
   "cell_type": "code",
   "execution_count": 55,
   "metadata": {},
   "outputs": [],
   "source": [
    "import numpy as np\n",
    "from numpy.random import randn\n",
    "import matplotlib.pyplot as plt"
   ]
  },
  {
   "cell_type": "code",
   "execution_count": 56,
   "metadata": {},
   "outputs": [],
   "source": [
    "#Creo 2 arrays de numeros aleatorios\n",
    "\n",
    "a = randn(10)\n",
    "b = randn(10)"
   ]
  },
  {
   "cell_type": "code",
   "execution_count": 57,
   "metadata": {},
   "outputs": [
    {
     "data": {
      "text/plain": [
       "(array([ 1.60014085,  1.90022795,  2.23737199,  0.58747244,  0.48397927,\n",
       "        -1.22197366,  0.35934455, -1.36336298, -0.90052598,  0.9455401 ]),\n",
       " array([-0.14691696, -0.35591521,  0.59023575,  0.24515231,  0.44292792,\n",
       "        -1.54721827,  0.78206876,  1.74878467,  0.78126155,  0.7352522 ]))"
      ]
     },
     "execution_count": 57,
     "metadata": {},
     "output_type": "execute_result"
    }
   ],
   "source": [
    "a,b #Visualizo los arrays"
   ]
  },
  {
   "cell_type": "code",
   "execution_count": 58,
   "metadata": {},
   "outputs": [],
   "source": [
    "x,y= np.meshgrid(a,b) #Utilizo la funcion np.meshgrid para crear la matriz 2D"
   ]
  },
  {
   "cell_type": "code",
   "execution_count": 59,
   "metadata": {},
   "outputs": [
    {
     "data": {
      "text/plain": [
       "(array([[ 1.60014085,  1.90022795,  2.23737199,  0.58747244,  0.48397927,\n",
       "         -1.22197366,  0.35934455, -1.36336298, -0.90052598,  0.9455401 ],\n",
       "        [ 1.60014085,  1.90022795,  2.23737199,  0.58747244,  0.48397927,\n",
       "         -1.22197366,  0.35934455, -1.36336298, -0.90052598,  0.9455401 ],\n",
       "        [ 1.60014085,  1.90022795,  2.23737199,  0.58747244,  0.48397927,\n",
       "         -1.22197366,  0.35934455, -1.36336298, -0.90052598,  0.9455401 ],\n",
       "        [ 1.60014085,  1.90022795,  2.23737199,  0.58747244,  0.48397927,\n",
       "         -1.22197366,  0.35934455, -1.36336298, -0.90052598,  0.9455401 ],\n",
       "        [ 1.60014085,  1.90022795,  2.23737199,  0.58747244,  0.48397927,\n",
       "         -1.22197366,  0.35934455, -1.36336298, -0.90052598,  0.9455401 ],\n",
       "        [ 1.60014085,  1.90022795,  2.23737199,  0.58747244,  0.48397927,\n",
       "         -1.22197366,  0.35934455, -1.36336298, -0.90052598,  0.9455401 ],\n",
       "        [ 1.60014085,  1.90022795,  2.23737199,  0.58747244,  0.48397927,\n",
       "         -1.22197366,  0.35934455, -1.36336298, -0.90052598,  0.9455401 ],\n",
       "        [ 1.60014085,  1.90022795,  2.23737199,  0.58747244,  0.48397927,\n",
       "         -1.22197366,  0.35934455, -1.36336298, -0.90052598,  0.9455401 ],\n",
       "        [ 1.60014085,  1.90022795,  2.23737199,  0.58747244,  0.48397927,\n",
       "         -1.22197366,  0.35934455, -1.36336298, -0.90052598,  0.9455401 ],\n",
       "        [ 1.60014085,  1.90022795,  2.23737199,  0.58747244,  0.48397927,\n",
       "         -1.22197366,  0.35934455, -1.36336298, -0.90052598,  0.9455401 ]]),\n",
       " array([[-0.14691696, -0.14691696, -0.14691696, -0.14691696, -0.14691696,\n",
       "         -0.14691696, -0.14691696, -0.14691696, -0.14691696, -0.14691696],\n",
       "        [-0.35591521, -0.35591521, -0.35591521, -0.35591521, -0.35591521,\n",
       "         -0.35591521, -0.35591521, -0.35591521, -0.35591521, -0.35591521],\n",
       "        [ 0.59023575,  0.59023575,  0.59023575,  0.59023575,  0.59023575,\n",
       "          0.59023575,  0.59023575,  0.59023575,  0.59023575,  0.59023575],\n",
       "        [ 0.24515231,  0.24515231,  0.24515231,  0.24515231,  0.24515231,\n",
       "          0.24515231,  0.24515231,  0.24515231,  0.24515231,  0.24515231],\n",
       "        [ 0.44292792,  0.44292792,  0.44292792,  0.44292792,  0.44292792,\n",
       "          0.44292792,  0.44292792,  0.44292792,  0.44292792,  0.44292792],\n",
       "        [-1.54721827, -1.54721827, -1.54721827, -1.54721827, -1.54721827,\n",
       "         -1.54721827, -1.54721827, -1.54721827, -1.54721827, -1.54721827],\n",
       "        [ 0.78206876,  0.78206876,  0.78206876,  0.78206876,  0.78206876,\n",
       "          0.78206876,  0.78206876,  0.78206876,  0.78206876,  0.78206876],\n",
       "        [ 1.74878467,  1.74878467,  1.74878467,  1.74878467,  1.74878467,\n",
       "          1.74878467,  1.74878467,  1.74878467,  1.74878467,  1.74878467],\n",
       "        [ 0.78126155,  0.78126155,  0.78126155,  0.78126155,  0.78126155,\n",
       "          0.78126155,  0.78126155,  0.78126155,  0.78126155,  0.78126155],\n",
       "        [ 0.7352522 ,  0.7352522 ,  0.7352522 ,  0.7352522 ,  0.7352522 ,\n",
       "          0.7352522 ,  0.7352522 ,  0.7352522 ,  0.7352522 ,  0.7352522 ]]))"
      ]
     },
     "execution_count": 59,
     "metadata": {},
     "output_type": "execute_result"
    }
   ],
   "source": [
    "x,y #Visualizo la matriz 2D"
   ]
  },
  {
   "cell_type": "markdown",
   "metadata": {},
   "source": [
    "### Caso 1"
   ]
  },
  {
   "cell_type": "code",
   "execution_count": 60,
   "metadata": {},
   "outputs": [],
   "source": [
    "z1 = np.sqrt(x**2 + y**2)"
   ]
  },
  {
   "cell_type": "code",
   "execution_count": 61,
   "metadata": {},
   "outputs": [
    {
     "data": {
      "text/plain": [
       "array([[1.60687128, 1.90589896, 2.24219045, 0.60556458, 0.50578703,\n",
       "        1.23077383, 0.38821785, 1.37125607, 0.91243171, 0.95688592],\n",
       "       [1.63924567, 1.93327233, 2.26550415, 0.68687663, 0.60075916,\n",
       "        1.27275106, 0.50577084, 1.40905438, 0.96830918, 1.01030773],\n",
       "       [1.70552894, 1.98978504, 2.31391695, 0.83276774, 0.76329167,\n",
       "        1.35705485, 0.69101863, 1.48564358, 1.07671968, 1.11464089],\n",
       "       [1.61881141, 1.91597649, 2.25076277, 0.6365717 , 0.54252704,\n",
       "        1.2463223 , 0.43500363, 1.3852286 , 0.93329882, 0.97680383],\n",
       "       [1.66031198, 1.95116668, 2.2807934 , 0.73573706, 0.65606484,\n",
       "        1.29977104, 0.57036274, 1.4335075 , 1.00355975, 1.04414138],\n",
       "       [2.22583357, 2.45045927, 2.72024223, 1.65499493, 1.62114783,\n",
       "        1.97157398, 1.58839947, 2.06219373, 1.79020429, 1.81326513],\n",
       "       [1.78103405, 2.05487173, 2.37011919, 0.97813875, 0.91971054,\n",
       "        1.45081052, 0.86067419, 1.57174749, 1.19271899, 1.22706056],\n",
       "       [2.37037941, 2.58246279, 2.8397326 , 1.84482294, 1.81452025,\n",
       "        2.13341684, 1.78532247, 2.21743239, 1.9670269 , 1.9880377 ],\n",
       "       [1.78067974, 2.05456464, 2.36985295, 0.97749347, 0.91902423,\n",
       "        1.45037555, 0.85994076, 1.57134599, 1.19218985, 1.22654624],\n",
       "       [1.76097886, 2.0375137 , 2.35508582, 0.94112681, 0.88024527,\n",
       "        1.426119  , 0.81836685, 1.54898496, 1.16255874, 1.19776537]])"
      ]
     },
     "execution_count": 61,
     "metadata": {},
     "output_type": "execute_result"
    }
   ],
   "source": [
    "z1"
   ]
  },
  {
   "cell_type": "code",
   "execution_count": 62,
   "metadata": {},
   "outputs": [
    {
     "data": {
      "text/plain": [
       "<matplotlib.image.AxesImage at 0x789c9b0080>"
      ]
     },
     "execution_count": 62,
     "metadata": {},
     "output_type": "execute_result"
    },
    {
     "data": {
      "image/png": "[encoded data removed]",
      "text/plain": [
       "<Figure size 432x288 with 1 Axes>"
      ]
     },
     "metadata": {
      "needs_background": "light"
     },
     "output_type": "display_data"
    }
   ],
   "source": [
    "plt.imshow(z1)"
   ]
  },
  {
   "cell_type": "markdown",
   "metadata": {},
   "source": [
    "### Caso 2 "
   ]
  },
  {
   "cell_type": "code",
   "execution_count": 63,
   "metadata": {},
   "outputs": [],
   "source": [
    "z2 = np.exp(x+y)"
   ]
  },
  {
   "cell_type": "code",
   "execution_count": 64,
   "metadata": {},
   "outputs": [
    {
     "data": {
      "text/plain": [
       "array([[ 4.27688051,  5.77368771,  8.08859487,  1.55356996,  1.40082635,\n",
       "         0.25438902,  1.23667657,  0.22084815,  0.35083371,  2.22247878],\n",
       "       [ 3.47024652,  4.68475087,  6.56305879,  1.26056147,  1.13662581,\n",
       "         0.2064104 ,  1.00343523,  0.17919545,  0.2846653 ,  1.80331184],\n",
       "       [ 8.93857875, 12.06687027, 16.9049713 ,  3.24692435,  2.92769382,\n",
       "         0.53166701,  2.58462468,  0.46156738,  0.73323412,  4.64492789],\n",
       "       [ 6.32995519,  8.54529006, 11.97144578,  2.29934604,  2.07327934,\n",
       "         0.37650598,  1.83033107,  0.32686414,  0.519248  ,  3.28935799],\n",
       "       [ 7.71424616, 10.41405018, 14.58946814,  2.80218751,  2.52668253,\n",
       "         0.45884366,  2.23060416,  0.3983457 ,  0.63280178,  4.00870408],\n",
       "       [ 1.05434802,  1.42334493,  1.99402203,  0.38299022,  0.34533546,\n",
       "         0.06271266,  0.30486881,  0.05444408,  0.08648846,  0.54789141],\n",
       "       [10.8288039 , 14.6186296 , 20.47983513,  3.93354559,  3.54680796,\n",
       "         0.64409768,  3.1311906 ,  0.55917421,  0.88828982,  5.62718243],\n",
       "       [28.47212434, 38.43669562, 53.8475364 , 10.34245335,  9.32560586,\n",
       "         1.69352306,  8.23282506,  1.47023417,  2.33557635, 14.7955249 ],\n",
       "       [10.82006626, 14.60683398, 20.46331018,  3.93037166,  3.54394608,\n",
       "         0.64357796,  3.12866408,  0.55872302,  0.88757307,  5.62264192],\n",
       "       [10.3335207 , 13.95000897, 19.54313719,  3.75363477,  3.38458557,\n",
       "         0.61463821,  2.98797754,  0.53359894,  0.8476616 ,  5.36980876]])"
      ]
     },
     "execution_count": 64,
     "metadata": {},
     "output_type": "execute_result"
    }
   ],
   "source": [
    "z2"
   ]
  },
  {
   "cell_type": "code",
   "execution_count": 65,
   "metadata": {},
   "outputs": [
    {
     "data": {
      "text/plain": [
       "<matplotlib.image.AxesImage at 0x789cae11d0>"
      ]
     },
     "execution_count": 65,
     "metadata": {},
     "output_type": "execute_result"
    },
    {
     "data": {
      "image/png": "[encoded data removed]",
      "text/plain": [
       "<Figure size 432x288 with 1 Axes>"
      ]
     },
     "metadata": {
      "needs_background": "light"
     },
     "output_type": "display_data"
    }
   ],
   "source": [
    "plt.imshow(z2)"
   ]
  },
  {
   "cell_type": "markdown",
   "metadata": {},
   "source": [
    "### Caso 3"
   ]
  },
  {
   "cell_type": "code",
   "execution_count": 69,
   "metadata": {},
   "outputs": [],
   "source": [
    "z3 = np.square(x,y)"
   ]
  },
  {
   "cell_type": "code",
   "execution_count": 70,
   "metadata": {},
   "outputs": [
    {
     "data": {
      "text/plain": [
       "array([[2.56045073, 3.61086627, 5.0058334 , 0.34512387, 0.23423593,\n",
       "        1.49321962, 0.12912851, 1.85875861, 0.81094703, 0.89404607],\n",
       "       [2.56045073, 3.61086627, 5.0058334 , 0.34512387, 0.23423593,\n",
       "        1.49321962, 0.12912851, 1.85875861, 0.81094703, 0.89404607],\n",
       "       [2.56045073, 3.61086627, 5.0058334 , 0.34512387, 0.23423593,\n",
       "        1.49321962, 0.12912851, 1.85875861, 0.81094703, 0.89404607],\n",
       "       [2.56045073, 3.61086627, 5.0058334 , 0.34512387, 0.23423593,\n",
       "        1.49321962, 0.12912851, 1.85875861, 0.81094703, 0.89404607],\n",
       "       [2.56045073, 3.61086627, 5.0058334 , 0.34512387, 0.23423593,\n",
       "        1.49321962, 0.12912851, 1.85875861, 0.81094703, 0.89404607],\n",
       "       [2.56045073, 3.61086627, 5.0058334 , 0.34512387, 0.23423593,\n",
       "        1.49321962, 0.12912851, 1.85875861, 0.81094703, 0.89404607],\n",
       "       [2.56045073, 3.61086627, 5.0058334 , 0.34512387, 0.23423593,\n",
       "        1.49321962, 0.12912851, 1.85875861, 0.81094703, 0.89404607],\n",
       "       [2.56045073, 3.61086627, 5.0058334 , 0.34512387, 0.23423593,\n",
       "        1.49321962, 0.12912851, 1.85875861, 0.81094703, 0.89404607],\n",
       "       [2.56045073, 3.61086627, 5.0058334 , 0.34512387, 0.23423593,\n",
       "        1.49321962, 0.12912851, 1.85875861, 0.81094703, 0.89404607],\n",
       "       [2.56045073, 3.61086627, 5.0058334 , 0.34512387, 0.23423593,\n",
       "        1.49321962, 0.12912851, 1.85875861, 0.81094703, 0.89404607]])"
      ]
     },
     "execution_count": 70,
     "metadata": {},
     "output_type": "execute_result"
    }
   ],
   "source": [
    "z3"
   ]
  },
  {
   "cell_type": "code",
   "execution_count": 71,
   "metadata": {},
   "outputs": [
    {
     "data": {
      "text/plain": [
       "<matplotlib.image.AxesImage at 0x789cc60940>"
      ]
     },
     "execution_count": 71,
     "metadata": {},
     "output_type": "execute_result"
    },
    {
     "data": {
      "image/png": "[encoded data removed]",
      "text/plain": [
       "<Figure size 432x288 with 1 Axes>"
      ]
     },
     "metadata": {
      "needs_background": "light"
     },
     "output_type": "display_data"
    }
   ],
   "source": [
    "plt.imshow(z3)"
   ]
  }
 ],
 "metadata": {
  "kernelspec": {
   "display_name": "Python 3",
   "language": "python",
   "name": "python3"
  },
  "language_info": {
   "codemirror_mode": {
    "name": "ipython",
    "version": 3
   },
   "file_extension": ".py",
   "mimetype": "text/x-python",
   "name": "python",
   "nbconvert_exporter": "python",
   "pygments_lexer": "ipython3",
   "version": "3.7.1"
  }
 },
 "nbformat": 4,
 "nbformat_minor": 2
}
