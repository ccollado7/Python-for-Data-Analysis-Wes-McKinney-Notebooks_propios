{
 "cells": [
  {
   "cell_type": "markdown",
   "metadata": {},
   "source": [
    "# Universal Functions: Fast Element-wise Array Functions"
   ]
  },
  {
   "cell_type": "code",
   "execution_count": 307,
   "metadata": {},
   "outputs": [],
   "source": [
    "import numpy as np #Convencion para importar NumPy\n",
    "from numpy.random import randn "
   ]
  },
  {
   "cell_type": "markdown",
   "metadata": {},
   "source": [
    "Una funcion universal o \"ufunc\" es una funcion que realiza operaciones elementales en datos de ndarrays. "
   ]
  },
  {
   "cell_type": "markdown",
   "metadata": {},
   "source": [
    "Muchas ufuncs son simplemente transformaciones sobre los elementos, tales como \"sqrt\" o \"exp\""
   ]
  },
  {
   "cell_type": "code",
   "execution_count": 20,
   "metadata": {},
   "outputs": [],
   "source": [
    "arr = np.arange(10) #Creo un array con 10 elementos enteros consecutivos comenzando por el cero"
   ]
  },
  {
   "cell_type": "code",
   "execution_count": 21,
   "metadata": {},
   "outputs": [
    {
     "data": {
      "text/plain": [
       "array([0, 1, 2, 3, 4, 5, 6, 7, 8, 9])"
      ]
     },
     "execution_count": 21,
     "metadata": {},
     "output_type": "execute_result"
    }
   ],
   "source": [
    "arr #Visualizo el array"
   ]
  },
  {
   "cell_type": "code",
   "execution_count": 22,
   "metadata": {},
   "outputs": [
    {
     "data": {
      "text/plain": [
       "array([0.        , 1.        , 1.41421356, 1.73205081, 2.        ,\n",
       "       2.23606798, 2.44948974, 2.64575131, 2.82842712, 3.        ])"
      ]
     },
     "execution_count": 22,
     "metadata": {},
     "output_type": "execute_result"
    }
   ],
   "source": [
    "np.sqrt(arr) #Calculo la raiz cuadrada de cada elemento del array"
   ]
  },
  {
   "cell_type": "code",
   "execution_count": 23,
   "metadata": {},
   "outputs": [
    {
     "data": {
      "text/plain": [
       "array([1.00000000e+00, 2.71828183e+00, 7.38905610e+00, 2.00855369e+01,\n",
       "       5.45981500e+01, 1.48413159e+02, 4.03428793e+02, 1.09663316e+03,\n",
       "       2.98095799e+03, 8.10308393e+03])"
      ]
     },
     "execution_count": 23,
     "metadata": {},
     "output_type": "execute_result"
    }
   ],
   "source": [
    "np.exp(arr) #Calculo el exponente e^x de cada elemento del array"
   ]
  },
  {
   "cell_type": "markdown",
   "metadata": {},
   "source": [
    "Segun se observa en los ejemplos anteriores \"sqrt\" y \"exp\" son conocidas como ufuncs unitarias.\n",
    "\n",
    "Otros, como por ejemplo \"add\" y \"maximun\",toman 2 arrays y retornan como resultado un solo array. Estas son consideradas como ufuncs binarias"
   ]
  },
  {
   "cell_type": "code",
   "execution_count": 24,
   "metadata": {},
   "outputs": [],
   "source": [
    "x = randn(8) #Creo un array con 8 elementos aleatorios"
   ]
  },
  {
   "cell_type": "code",
   "execution_count": 25,
   "metadata": {},
   "outputs": [],
   "source": [
    "y = randn(8) #Creo un array con 8 elementos aleatorios"
   ]
  },
  {
   "cell_type": "code",
   "execution_count": 26,
   "metadata": {},
   "outputs": [
    {
     "data": {
      "text/plain": [
       "(array([-0.5009678 , -0.75731203, -0.63308009,  0.45555814,  1.0342186 ,\n",
       "        -1.48804829, -0.47713859, -2.6053242 ]),\n",
       " array([ 0.4933857 , -0.57477879,  0.58695361, -0.36980744,  1.11295044,\n",
       "        -0.85771552, -0.71862285,  0.31796107]))"
      ]
     },
     "execution_count": 26,
     "metadata": {},
     "output_type": "execute_result"
    }
   ],
   "source": [
    "x,y #Visualizo los arrays creados anteriormente"
   ]
  },
  {
   "cell_type": "code",
   "execution_count": 27,
   "metadata": {},
   "outputs": [
    {
     "data": {
      "text/plain": [
       "array([ 0.4933857 , -0.57477879,  0.58695361,  0.45555814,  1.11295044,\n",
       "       -0.85771552, -0.47713859,  0.31796107])"
      ]
     },
     "execution_count": 27,
     "metadata": {},
     "output_type": "execute_result"
    }
   ],
   "source": [
    "np.maximum(x,y) #Tomando los arrays x,y creados anteriormente creo un nuevo array formado por lo elementos mayores de cada posicion"
   ]
  },
  {
   "cell_type": "markdown",
   "metadata": {},
   "source": [
    "No es comun, pero ufuncs pueden retornar multiples arrays: modf es un ejemplo ya que retorna la parte fraccional y entera de un array punto flotante"
   ]
  },
  {
   "cell_type": "code",
   "execution_count": 28,
   "metadata": {},
   "outputs": [],
   "source": [
    "arr = randn(7)*5 #Creo un array en forma aleatoria"
   ]
  },
  {
   "cell_type": "code",
   "execution_count": 29,
   "metadata": {},
   "outputs": [
    {
     "data": {
      "text/plain": [
       "array([-9.31663652, -3.34292991, -6.05906108, -5.97928385,  7.88673268,\n",
       "       -6.46968905, -5.96952826])"
      ]
     },
     "execution_count": 29,
     "metadata": {},
     "output_type": "execute_result"
    }
   ],
   "source": [
    "arr #Visualizo el array creado "
   ]
  },
  {
   "cell_type": "code",
   "execution_count": 30,
   "metadata": {},
   "outputs": [
    {
     "data": {
      "text/plain": [
       "(array([-0.31663652, -0.34292991, -0.05906108, -0.97928385,  0.88673268,\n",
       "        -0.46968905, -0.96952826]), array([-9., -3., -6., -5.,  7., -6., -5.]))"
      ]
     },
     "execution_count": 30,
     "metadata": {},
     "output_type": "execute_result"
    }
   ],
   "source": [
    "np.modf(arr) #Con la ufunc creo 2 arrays, uno con la parte fraccional (1° array) y otro con la parte entera (2° array). Verifico el resultado con la visualizacion realizada con anterioridad"
   ]
  },
  {
   "cell_type": "markdown",
   "metadata": {},
   "source": [
    "## Table 4.3 - Unary Ufuncs "
   ]
  },
  {
   "attachments": {
    "image.png": {
     "image/png": "[encoded data removed]"
    }
   },
   "cell_type": "markdown",
   "metadata": {},
   "source": [
    "![image.png](attachment:image.png)"
   ]
  },
  {
   "cell_type": "markdown",
   "metadata": {},
   "source": [
    "### 1. abs - Valor Absoluto"
   ]
  },
  {
   "cell_type": "code",
   "execution_count": 38,
   "metadata": {},
   "outputs": [],
   "source": [
    "arr1 = randn(10) #Creo un array con valores aleatorios"
   ]
  },
  {
   "cell_type": "code",
   "execution_count": 39,
   "metadata": {},
   "outputs": [
    {
     "data": {
      "text/plain": [
       "array([-0.85898182,  1.37057988, -1.98561876, -1.01221717,  0.63507144,\n",
       "        0.11079791,  1.05335213, -0.07099154,  1.22654979, -0.70075328])"
      ]
     },
     "execution_count": 39,
     "metadata": {},
     "output_type": "execute_result"
    }
   ],
   "source": [
    "arr1 #Visualizo el array"
   ]
  },
  {
   "cell_type": "code",
   "execution_count": 40,
   "metadata": {},
   "outputs": [
    {
     "data": {
      "text/plain": [
       "array([0.85898182, 1.37057988, 1.98561876, 1.01221717, 0.63507144,\n",
       "       0.11079791, 1.05335213, 0.07099154, 1.22654979, 0.70075328])"
      ]
     },
     "execution_count": 40,
     "metadata": {},
     "output_type": "execute_result"
    }
   ],
   "source": [
    "np.abs(arr1) #Computo el valor absoluto elemento a elemento"
   ]
  },
  {
   "cell_type": "markdown",
   "metadata": {},
   "source": [
    "### 2. sqrt - Raiz Cuadrada"
   ]
  },
  {
   "cell_type": "code",
   "execution_count": 42,
   "metadata": {},
   "outputs": [],
   "source": [
    "arr2 = randn(6) #Creo un array con valores aleatorios"
   ]
  },
  {
   "cell_type": "code",
   "execution_count": 43,
   "metadata": {},
   "outputs": [
    {
     "data": {
      "text/plain": [
       "array([0.52005567, 0.33132433, 0.15665222, 0.05783239, 0.58781247,\n",
       "       0.89691058])"
      ]
     },
     "execution_count": 43,
     "metadata": {},
     "output_type": "execute_result"
    }
   ],
   "source": [
    "arr2 #Visualizo el array"
   ]
  },
  {
   "cell_type": "code",
   "execution_count": 57,
   "metadata": {},
   "outputs": [
    {
     "data": {
      "text/plain": [
       "array([0.72114885, 0.57560779, 0.39579315, 0.24048367, 0.76668929,\n",
       "       0.94705363])"
      ]
     },
     "execution_count": 57,
     "metadata": {},
     "output_type": "execute_result"
    }
   ],
   "source": [
    "np.sqrt(arr2) #Computo la raiz cuadrada elemento a elemento. Es equivalente a **0.5"
   ]
  },
  {
   "cell_type": "code",
   "execution_count": 61,
   "metadata": {},
   "outputs": [],
   "source": [
    "#verifico el correcto calculo por medio del uso de la ufunc square (Ver item 3.square para mayor detalle)\n",
    "\n",
    "arr2_sqrt = np.sqrt(arr2)"
   ]
  },
  {
   "cell_type": "code",
   "execution_count": 60,
   "metadata": {},
   "outputs": [
    {
     "data": {
      "text/plain": [
       "array([0.52005567, 0.33132433, 0.15665222, 0.05783239, 0.58781247,\n",
       "       0.89691058])"
      ]
     },
     "execution_count": 60,
     "metadata": {},
     "output_type": "execute_result"
    }
   ],
   "source": [
    "np.square(arr2_sqrt)"
   ]
  },
  {
   "cell_type": "markdown",
   "metadata": {},
   "source": [
    "### 3. square - Potencia 2"
   ]
  },
  {
   "cell_type": "code",
   "execution_count": 53,
   "metadata": {},
   "outputs": [],
   "source": [
    "arr3 = randn(8) #Creo un array con valores aleatorios"
   ]
  },
  {
   "cell_type": "code",
   "execution_count": 54,
   "metadata": {},
   "outputs": [
    {
     "data": {
      "text/plain": [
       "array([-0.25553255,  1.21906594,  0.4612675 ,  0.17968858, -0.99871484,\n",
       "       -0.91656536, -3.14586491, -0.55574342])"
      ]
     },
     "execution_count": 54,
     "metadata": {},
     "output_type": "execute_result"
    }
   ],
   "source": [
    "arr3 #Visualizo el array"
   ]
  },
  {
   "cell_type": "code",
   "execution_count": 56,
   "metadata": {},
   "outputs": [
    {
     "data": {
      "text/plain": [
       "array([0.06529688, 1.48612177, 0.21276771, 0.03228799, 0.99743134,\n",
       "       0.84009206, 9.896466  , 0.30885075])"
      ]
     },
     "execution_count": 56,
     "metadata": {},
     "output_type": "execute_result"
    }
   ],
   "source": [
    "np.square(arr3) #Computo el cuadrado de cada elemento. Es equivalente a **2"
   ]
  },
  {
   "cell_type": "markdown",
   "metadata": {},
   "source": [
    "### 4. exp - Exponente de base e"
   ]
  },
  {
   "cell_type": "code",
   "execution_count": 63,
   "metadata": {},
   "outputs": [],
   "source": [
    "arr4 = randn(12) #Creo un array de valores aleatorios"
   ]
  },
  {
   "cell_type": "code",
   "execution_count": 64,
   "metadata": {},
   "outputs": [
    {
     "data": {
      "text/plain": [
       "array([-0.86356508, -0.19784826, -0.23005288, -0.49011641,  1.27747418,\n",
       "        0.3719636 ,  0.7663165 ,  0.74790688,  0.71981478, -0.20344058,\n",
       "       -0.19816742, -0.99784862])"
      ]
     },
     "execution_count": 64,
     "metadata": {},
     "output_type": "execute_result"
    }
   ],
   "source": [
    "arr4 #Visualizo el array"
   ]
  },
  {
   "cell_type": "code",
   "execution_count": 66,
   "metadata": {},
   "outputs": [
    {
     "data": {
      "text/plain": [
       "array([0.42165616, 0.82049434, 0.79449159, 0.61255508, 3.58756672,\n",
       "       1.45058017, 2.15182539, 2.11257352, 2.05405271, 0.81591869,\n",
       "       0.82023252, 0.36867174])"
      ]
     },
     "execution_count": 66,
     "metadata": {},
     "output_type": "execute_result"
    }
   ],
   "source": [
    "np.exp(arr4) #Computo el exponente e^x de cada elemento del array"
   ]
  },
  {
   "cell_type": "markdown",
   "metadata": {},
   "source": [
    "### 5A. log - Logaritmo base e"
   ]
  },
  {
   "cell_type": "code",
   "execution_count": 120,
   "metadata": {},
   "outputs": [],
   "source": [
    "arr5a = randn(4) #Creo un array de valores aleatorios"
   ]
  },
  {
   "cell_type": "code",
   "execution_count": 121,
   "metadata": {},
   "outputs": [
    {
     "data": {
      "text/plain": [
       "array([ 1.31378062, -0.13620538,  0.54718706, -2.5415642 ])"
      ]
     },
     "execution_count": 121,
     "metadata": {},
     "output_type": "execute_result"
    }
   ],
   "source": [
    "arr5a #Visualizo el array"
   ]
  },
  {
   "cell_type": "code",
   "execution_count": 122,
   "metadata": {},
   "outputs": [
    {
     "name": "stderr",
     "output_type": "stream",
     "text": [
      "C:\\Users\\Usuario\\Anaconda3\\lib\\site-packages\\ipykernel_launcher.py:1: RuntimeWarning: invalid value encountered in log\n",
      "  \"\"\"Entry point for launching an IPython kernel.\n"
     ]
    },
    {
     "data": {
      "text/plain": [
       "array([ 0.27290895,         nan, -0.60296455,         nan])"
      ]
     },
     "execution_count": 122,
     "metadata": {},
     "output_type": "execute_result"
    }
   ],
   "source": [
    "np.log(arr5a) #Computo el logaritmo natural (base e). Notar que segun los valore aleatorios que se obtengan puede ser que no se obtengan resultados"
   ]
  },
  {
   "cell_type": "code",
   "execution_count": 88,
   "metadata": {},
   "outputs": [],
   "source": [
    "arr5a_new =np.array([1,2,3,4,5,6]) #Creo un nuevo array"
   ]
  },
  {
   "cell_type": "code",
   "execution_count": 89,
   "metadata": {},
   "outputs": [
    {
     "data": {
      "text/plain": [
       "array([1, 2, 3, 4, 5, 6])"
      ]
     },
     "execution_count": 89,
     "metadata": {},
     "output_type": "execute_result"
    }
   ],
   "source": [
    "arr5a_new #Visualizo el array"
   ]
  },
  {
   "cell_type": "code",
   "execution_count": 111,
   "metadata": {},
   "outputs": [
    {
     "data": {
      "text/plain": [
       "array([0.        , 0.69314718, 1.09861229, 1.38629436, 1.60943791,\n",
       "       1.79175947])"
      ]
     },
     "execution_count": 111,
     "metadata": {},
     "output_type": "execute_result"
    }
   ],
   "source": [
    "np.log(arr5a_new) #Computo el logatirmo natural (base e)"
   ]
  },
  {
   "cell_type": "markdown",
   "metadata": {},
   "source": [
    "### 5B. log10 - Logaritmo Base 10"
   ]
  },
  {
   "cell_type": "code",
   "execution_count": 102,
   "metadata": {},
   "outputs": [],
   "source": [
    "arr5b = np.array([1,2,3,4,5,6,7,8]) #Creo un array de valores consecutivos"
   ]
  },
  {
   "cell_type": "code",
   "execution_count": 107,
   "metadata": {},
   "outputs": [
    {
     "data": {
      "text/plain": [
       "array([1, 2, 3, 4, 5, 6, 7, 8])"
      ]
     },
     "execution_count": 107,
     "metadata": {},
     "output_type": "execute_result"
    }
   ],
   "source": [
    "arr5b #Visualizo el array"
   ]
  },
  {
   "cell_type": "code",
   "execution_count": 110,
   "metadata": {},
   "outputs": [
    {
     "data": {
      "text/plain": [
       "array([0.        , 0.30103   , 0.47712125, 0.60205999, 0.69897   ,\n",
       "       0.77815125, 0.84509804, 0.90308999])"
      ]
     },
     "execution_count": 110,
     "metadata": {},
     "output_type": "execute_result"
    }
   ],
   "source": [
    "np.log10(arr5b) #Computo el logaritmo base 10"
   ]
  },
  {
   "cell_type": "markdown",
   "metadata": {},
   "source": [
    "### 5C. log2 - Logaritmo Base 2"
   ]
  },
  {
   "cell_type": "code",
   "execution_count": 105,
   "metadata": {},
   "outputs": [],
   "source": [
    "arr5c = np.array([1,2,3,4,5,6]) #Creo un array de valores consecutivos"
   ]
  },
  {
   "cell_type": "code",
   "execution_count": 108,
   "metadata": {},
   "outputs": [
    {
     "data": {
      "text/plain": [
       "array([1, 2, 3, 4, 5, 6])"
      ]
     },
     "execution_count": 108,
     "metadata": {},
     "output_type": "execute_result"
    }
   ],
   "source": [
    "arr5c #Visualizo el array"
   ]
  },
  {
   "cell_type": "code",
   "execution_count": 112,
   "metadata": {},
   "outputs": [
    {
     "data": {
      "text/plain": [
       "array([0.        , 1.        , 1.5849625 , 2.        , 2.32192809,\n",
       "       2.5849625 ])"
      ]
     },
     "execution_count": 112,
     "metadata": {},
     "output_type": "execute_result"
    }
   ],
   "source": [
    "np.log2(arr5c) #Computo el logaritmo base 2"
   ]
  },
  {
   "cell_type": "markdown",
   "metadata": {},
   "source": [
    "Tambien es posible realizar el calculo del logaritmo de base generica log1p lo que es equivalente a log(1+x) "
   ]
  },
  {
   "cell_type": "markdown",
   "metadata": {},
   "source": [
    "### 6. sign - Signo de cada elemento (-1,0,1)"
   ]
  },
  {
   "cell_type": "code",
   "execution_count": 115,
   "metadata": {},
   "outputs": [],
   "source": [
    "arr6 = randn(20) #Creo un array de 20 valores aleatorios"
   ]
  },
  {
   "cell_type": "code",
   "execution_count": 117,
   "metadata": {},
   "outputs": [
    {
     "data": {
      "text/plain": [
       "array([ 1.28587068, -0.04970939, -1.16026063, -2.61610507, -1.49648878,\n",
       "       -0.05575057,  0.01617327,  1.53897254, -0.21251456, -1.03936907,\n",
       "        1.23043017,  1.19425089, -0.69953519,  0.80478905,  0.52741691,\n",
       "        1.27808248,  1.65259496, -0.99330376, -1.94713339, -1.52850572])"
      ]
     },
     "execution_count": 117,
     "metadata": {},
     "output_type": "execute_result"
    }
   ],
   "source": [
    "arr6 #Visualizo el array"
   ]
  },
  {
   "cell_type": "code",
   "execution_count": 119,
   "metadata": {},
   "outputs": [
    {
     "data": {
      "text/plain": [
       "array([ 1., -1., -1., -1., -1., -1.,  1.,  1., -1., -1.,  1.,  1., -1.,\n",
       "        1.,  1.,  1.,  1., -1., -1., -1.])"
      ]
     },
     "execution_count": 119,
     "metadata": {},
     "output_type": "execute_result"
    }
   ],
   "source": [
    "np.sign(arr6) #Computo el signo de cada uno de los valores que componen el array"
   ]
  },
  {
   "cell_type": "markdown",
   "metadata": {},
   "source": [
    "### 7. ceil -  \"The smallest integer greater than or equal to each element\""
   ]
  },
  {
   "cell_type": "code",
   "execution_count": 123,
   "metadata": {},
   "outputs": [],
   "source": [
    "arr7 = randn(8) #Creo un array de 8 valores aleatorios"
   ]
  },
  {
   "cell_type": "code",
   "execution_count": 124,
   "metadata": {},
   "outputs": [
    {
     "data": {
      "text/plain": [
       "array([ 2.22372794,  1.27453814,  0.66259304, -0.32094816,  0.02351119,\n",
       "       -1.20014912,  1.05824639,  0.34526755])"
      ]
     },
     "execution_count": 124,
     "metadata": {},
     "output_type": "execute_result"
    }
   ],
   "source": [
    "arr7 #Visualizo el array"
   ]
  },
  {
   "cell_type": "code",
   "execution_count": 125,
   "metadata": {},
   "outputs": [
    {
     "data": {
      "text/plain": [
       "array([ 3.,  2.,  1., -0.,  1., -1.,  2.,  1.])"
      ]
     },
     "execution_count": 125,
     "metadata": {},
     "output_type": "execute_result"
    }
   ],
   "source": [
    "np.ceil(arr7)"
   ]
  },
  {
   "cell_type": "markdown",
   "metadata": {},
   "source": [
    "### 8. floor - \"The largest integer less than or equal to each element\" "
   ]
  },
  {
   "cell_type": "code",
   "execution_count": 126,
   "metadata": {},
   "outputs": [],
   "source": [
    "arr8 = randn(8) #Creo un array de 8 valores aleatorios"
   ]
  },
  {
   "cell_type": "code",
   "execution_count": 127,
   "metadata": {},
   "outputs": [
    {
     "data": {
      "text/plain": [
       "array([-0.57017667, -0.79009937,  1.25337116,  0.88280433,  0.79809329,\n",
       "       -0.00711707,  0.17255167, -0.90458292])"
      ]
     },
     "execution_count": 127,
     "metadata": {},
     "output_type": "execute_result"
    }
   ],
   "source": [
    "arr8 #Visualizo el array"
   ]
  },
  {
   "cell_type": "code",
   "execution_count": 128,
   "metadata": {},
   "outputs": [
    {
     "data": {
      "text/plain": [
       "array([-1., -1.,  1.,  0.,  0., -1.,  0., -1.])"
      ]
     },
     "execution_count": 128,
     "metadata": {},
     "output_type": "execute_result"
    }
   ],
   "source": [
    "np.floor(arr8)"
   ]
  },
  {
   "cell_type": "markdown",
   "metadata": {},
   "source": [
    "### 9. rint - Redondea al entero mas cercano, preservando \"dtype\""
   ]
  },
  {
   "cell_type": "code",
   "execution_count": 129,
   "metadata": {},
   "outputs": [],
   "source": [
    "arr9 = randn(10) #Creo un array de 10 valores aleatorios"
   ]
  },
  {
   "cell_type": "code",
   "execution_count": 130,
   "metadata": {},
   "outputs": [
    {
     "data": {
      "text/plain": [
       "array([-0.36809083,  0.78642095,  2.09912062, -0.26907496,  1.73760265,\n",
       "       -0.09429155, -0.84544472,  0.12687385,  0.21979225, -0.97878628])"
      ]
     },
     "execution_count": 130,
     "metadata": {},
     "output_type": "execute_result"
    }
   ],
   "source": [
    "arr9"
   ]
  },
  {
   "cell_type": "code",
   "execution_count": 132,
   "metadata": {},
   "outputs": [
    {
     "data": {
      "text/plain": [
       "array([-0.,  1.,  2., -0.,  2., -0., -1.,  0.,  0., -1.])"
      ]
     },
     "execution_count": 132,
     "metadata": {},
     "output_type": "execute_result"
    }
   ],
   "source": [
    "np.rint(arr9)"
   ]
  },
  {
   "cell_type": "markdown",
   "metadata": {},
   "source": [
    "Segun se observa arr9 contiene elementos \"integer\". Cuando se aplica la ufunc ritn se conserva el dtype integer"
   ]
  },
  {
   "cell_type": "markdown",
   "metadata": {},
   "source": [
    "### 10. modf - Obtengo la parte fraccional y entera del array como array separados"
   ]
  },
  {
   "cell_type": "code",
   "execution_count": 133,
   "metadata": {},
   "outputs": [],
   "source": [
    "arr10 = randn(30) #Creo un array de 30 valores aleatorios"
   ]
  },
  {
   "cell_type": "code",
   "execution_count": 134,
   "metadata": {},
   "outputs": [
    {
     "data": {
      "text/plain": [
       "array([-1.0538791 , -1.12362184, -1.04206073, -0.36960586, -0.16648168,\n",
       "        0.41074476, -1.0176351 ,  0.47615316, -1.00789124, -1.0023802 ,\n",
       "       -1.17810687, -0.34732151,  1.47902185,  0.96289476, -0.636075  ,\n",
       "        0.19748564,  0.27438057, -1.07238214, -0.54971325,  0.42107142,\n",
       "        1.15523271, -0.16316946, -0.12935275,  0.83228919, -0.19111002,\n",
       "        0.46076781,  2.18381747, -0.46349507,  0.46760312,  0.29484279])"
      ]
     },
     "execution_count": 134,
     "metadata": {},
     "output_type": "execute_result"
    }
   ],
   "source": [
    "arr10"
   ]
  },
  {
   "cell_type": "code",
   "execution_count": 135,
   "metadata": {},
   "outputs": [
    {
     "data": {
      "text/plain": [
       "(array([-0.0538791 , -0.12362184, -0.04206073, -0.36960586, -0.16648168,\n",
       "         0.41074476, -0.0176351 ,  0.47615316, -0.00789124, -0.0023802 ,\n",
       "        -0.17810687, -0.34732151,  0.47902185,  0.96289476, -0.636075  ,\n",
       "         0.19748564,  0.27438057, -0.07238214, -0.54971325,  0.42107142,\n",
       "         0.15523271, -0.16316946, -0.12935275,  0.83228919, -0.19111002,\n",
       "         0.46076781,  0.18381747, -0.46349507,  0.46760312,  0.29484279]),\n",
       " array([-1., -1., -1., -0., -0.,  0., -1.,  0., -1., -1., -1., -0.,  1.,\n",
       "         0., -0.,  0.,  0., -1., -0.,  0.,  1., -0., -0.,  0., -0.,  0.,\n",
       "         2., -0.,  0.,  0.]))"
      ]
     },
     "execution_count": 135,
     "metadata": {},
     "output_type": "execute_result"
    }
   ],
   "source": [
    "np.modf(arr10)"
   ]
  },
  {
   "cell_type": "markdown",
   "metadata": {},
   "source": [
    "Segun se observa se obtienen 2 arrays con la parte fraccional y la parte entera separados en 2 arrays distintos"
   ]
  },
  {
   "cell_type": "markdown",
   "metadata": {},
   "source": [
    "### 11. isnan - Retorna un array booleano indicando valores True en aquellos elementos NaN (Not a Number) "
   ]
  },
  {
   "cell_type": "code",
   "execution_count": 166,
   "metadata": {},
   "outputs": [],
   "source": [
    "arr11 = np.array([1,2,4,5,7]) #Creo un array de numeros entereos"
   ]
  },
  {
   "cell_type": "code",
   "execution_count": 171,
   "metadata": {},
   "outputs": [
    {
     "data": {
      "text/plain": [
       "array([1, 2, 4, 5, 7])"
      ]
     },
     "execution_count": 171,
     "metadata": {},
     "output_type": "execute_result"
    }
   ],
   "source": [
    "arr11 #Visualizo el array"
   ]
  },
  {
   "cell_type": "code",
   "execution_count": 175,
   "metadata": {},
   "outputs": [
    {
     "data": {
      "text/plain": [
       "array([False, False, False, False, False])"
      ]
     },
     "execution_count": 175,
     "metadata": {},
     "output_type": "execute_result"
    }
   ],
   "source": [
    "np.isnan(arr11) #Array booleano. False si el valor no es NaN / Verdadero si es NaN"
   ]
  },
  {
   "cell_type": "markdown",
   "metadata": {},
   "source": [
    "No se como crear elementos NaN para poder aplicar isnan y obtener valor booleano True en el array"
   ]
  },
  {
   "cell_type": "markdown",
   "metadata": {},
   "source": [
    "### 12A. isfinite - Retorna un array booleano indicando True en aquellos elementos Finitos (no infinitos / no NaN)"
   ]
  },
  {
   "cell_type": "code",
   "execution_count": 176,
   "metadata": {},
   "outputs": [],
   "source": [
    "arr12a = randn(10) #Creo un array de 10 valores aleatorios"
   ]
  },
  {
   "cell_type": "code",
   "execution_count": 181,
   "metadata": {},
   "outputs": [
    {
     "data": {
      "text/plain": [
       "array([-0.47533573,  1.32420204, -1.29035508,  0.8325244 , -0.35861627,\n",
       "        1.74228247,  2.00471967,  1.11095779,  0.20014452,  1.17580599])"
      ]
     },
     "execution_count": 181,
     "metadata": {},
     "output_type": "execute_result"
    }
   ],
   "source": [
    "arr12a #Visualizo el array"
   ]
  },
  {
   "cell_type": "code",
   "execution_count": 179,
   "metadata": {},
   "outputs": [
    {
     "data": {
      "text/plain": [
       "array([ True,  True,  True,  True,  True,  True,  True,  True,  True,\n",
       "        True])"
      ]
     },
     "execution_count": 179,
     "metadata": {},
     "output_type": "execute_result"
    }
   ],
   "source": [
    "np.isfinite(arr12a)"
   ]
  },
  {
   "cell_type": "markdown",
   "metadata": {},
   "source": [
    "Todos los valores sin FINITOS, por lo tanto el array tiene todos elementos booleanos True"
   ]
  },
  {
   "cell_type": "markdown",
   "metadata": {},
   "source": [
    "### 12B. isinf - Retorna un array booleano indicando True en aquellos elementos Infinitos "
   ]
  },
  {
   "cell_type": "code",
   "execution_count": 182,
   "metadata": {},
   "outputs": [],
   "source": [
    "arr12b = arr12a #Utilizo el mismo array que el caso anterior"
   ]
  },
  {
   "cell_type": "code",
   "execution_count": 183,
   "metadata": {},
   "outputs": [
    {
     "data": {
      "text/plain": [
       "array([-0.47533573,  1.32420204, -1.29035508,  0.8325244 , -0.35861627,\n",
       "        1.74228247,  2.00471967,  1.11095779,  0.20014452,  1.17580599])"
      ]
     },
     "execution_count": 183,
     "metadata": {},
     "output_type": "execute_result"
    }
   ],
   "source": [
    "arr12b"
   ]
  },
  {
   "cell_type": "code",
   "execution_count": 184,
   "metadata": {},
   "outputs": [
    {
     "data": {
      "text/plain": [
       "array([False, False, False, False, False, False, False, False, False,\n",
       "       False])"
      ]
     },
     "execution_count": 184,
     "metadata": {},
     "output_type": "execute_result"
    }
   ],
   "source": [
    "np.isinf(arr12b)"
   ]
  },
  {
   "cell_type": "markdown",
   "metadata": {},
   "source": [
    "Todos los valores sin FINITOS, por lo tanto el array tiene todos los elementos False"
   ]
  },
  {
   "cell_type": "markdown",
   "metadata": {},
   "source": [
    "### 13A. cos - Coseno "
   ]
  },
  {
   "cell_type": "code",
   "execution_count": 192,
   "metadata": {},
   "outputs": [],
   "source": [
    "arr13a = randn(8) #Creo un array de 8 valores aleatorios"
   ]
  },
  {
   "cell_type": "code",
   "execution_count": 195,
   "metadata": {},
   "outputs": [
    {
     "data": {
      "text/plain": [
       "array([ 2.13260296,  0.83909448, -2.07567249, -0.02165852,  0.23977447,\n",
       "       -1.03773546,  0.22389932,  0.71916882])"
      ]
     },
     "execution_count": 195,
     "metadata": {},
     "output_type": "execute_result"
    }
   ],
   "source": [
    "arr13a #Visualizo el array"
   ]
  },
  {
   "cell_type": "code",
   "execution_count": 197,
   "metadata": {},
   "outputs": [
    {
     "data": {
      "text/plain": [
       "array([-0.53271601,  0.66813684, -0.48369906,  0.99976546,  0.97139156,\n",
       "        0.5081719 ,  0.97503908,  0.75235354])"
      ]
     },
     "execution_count": 197,
     "metadata": {},
     "output_type": "execute_result"
    }
   ],
   "source": [
    "np.cos(arr13a) #Calculo el coseno de cada elemento del array"
   ]
  },
  {
   "cell_type": "markdown",
   "metadata": {},
   "source": [
    "Para el calculo de las funciones trigonometricas es importante recordar la transformacion de angulos de grados a radianes"
   ]
  },
  {
   "cell_type": "markdown",
   "metadata": {},
   "source": [
    "### 13B. cosh - Coseno Hiperbolico "
   ]
  },
  {
   "cell_type": "code",
   "execution_count": 198,
   "metadata": {},
   "outputs": [],
   "source": [
    "arr13b = randn(8) #Creo un array de 8 valores aleatorios"
   ]
  },
  {
   "cell_type": "code",
   "execution_count": 199,
   "metadata": {},
   "outputs": [
    {
     "data": {
      "text/plain": [
       "array([ 0.94528429,  0.46821994, -1.79443422, -0.87634164,  1.45224566,\n",
       "        0.15745153,  0.86607479,  0.909223  ])"
      ]
     },
     "execution_count": 199,
     "metadata": {},
     "output_type": "execute_result"
    }
   ],
   "source": [
    "arr13b"
   ]
  },
  {
   "cell_type": "code",
   "execution_count": 200,
   "metadata": {},
   "outputs": [
    {
     "data": {
      "text/plain": [
       "array([1.481057  , 1.11163222, 3.09114574, 1.4091995 , 2.25337144,\n",
       "       1.01242112, 1.39907968, 1.44261503])"
      ]
     },
     "execution_count": 200,
     "metadata": {},
     "output_type": "execute_result"
    }
   ],
   "source": [
    "np.cosh(arr13b)"
   ]
  },
  {
   "cell_type": "markdown",
   "metadata": {},
   "source": [
    "### 13C. sin - Seno  "
   ]
  },
  {
   "cell_type": "code",
   "execution_count": 201,
   "metadata": {},
   "outputs": [],
   "source": [
    "arr13c = randn(8) #Creo un array de 8 valores aleatorios"
   ]
  },
  {
   "cell_type": "code",
   "execution_count": 203,
   "metadata": {},
   "outputs": [
    {
     "data": {
      "text/plain": [
       "array([-0.5279571 , -2.20909994, -0.27126368, -0.07262432,  0.72457523,\n",
       "       -0.63522573, -0.79292722, -0.57379302])"
      ]
     },
     "execution_count": 203,
     "metadata": {},
     "output_type": "execute_result"
    }
   ],
   "source": [
    "arr13c #Visualizo al array"
   ]
  },
  {
   "cell_type": "code",
   "execution_count": 204,
   "metadata": {},
   "outputs": [
    {
     "data": {
      "text/plain": [
       "array([-0.50376966, -0.80310768, -0.26794912, -0.0725605 ,  0.66281745,\n",
       "       -0.59335923, -0.71241054, -0.54282151])"
      ]
     },
     "execution_count": 204,
     "metadata": {},
     "output_type": "execute_result"
    }
   ],
   "source": [
    "np.sin(arr13c)"
   ]
  },
  {
   "cell_type": "markdown",
   "metadata": {},
   "source": [
    "### 13d. sinh - Seno Hiperbolico "
   ]
  },
  {
   "cell_type": "code",
   "execution_count": 205,
   "metadata": {},
   "outputs": [],
   "source": [
    "arr13d =randn(8) #Creo un array de 8 valores aleatorios"
   ]
  },
  {
   "cell_type": "code",
   "execution_count": 206,
   "metadata": {},
   "outputs": [
    {
     "data": {
      "text/plain": [
       "array([ 0.57819806, -0.13864258,  0.29844599, -0.44206018, -0.4800491 ,\n",
       "       -0.60341011,  0.9501604 , -0.08939126])"
      ]
     },
     "execution_count": 206,
     "metadata": {},
     "output_type": "execute_result"
    }
   ],
   "source": [
    "arr13d #Visualizo el array"
   ]
  },
  {
   "cell_type": "code",
   "execution_count": 207,
   "metadata": {},
   "outputs": [
    {
     "data": {
      "text/plain": [
       "array([ 0.61095741, -0.13908717,  0.30289619, -0.45659921, -0.49870037,\n",
       "       -0.64069986,  1.09972272, -0.08951036])"
      ]
     },
     "execution_count": 207,
     "metadata": {},
     "output_type": "execute_result"
    }
   ],
   "source": [
    "np.sinh(arr13d)"
   ]
  },
  {
   "cell_type": "markdown",
   "metadata": {},
   "source": [
    "### 13e. tan - Tangente"
   ]
  },
  {
   "cell_type": "code",
   "execution_count": 208,
   "metadata": {},
   "outputs": [],
   "source": [
    "arr13e = randn(8) #Creo un array de 8 valores aleatorios"
   ]
  },
  {
   "cell_type": "code",
   "execution_count": 210,
   "metadata": {},
   "outputs": [
    {
     "data": {
      "text/plain": [
       "array([-0.19086105,  0.01848979,  0.60066047,  1.11306934, -1.20251292,\n",
       "       -1.23318981,  1.16792587, -1.00316024])"
      ]
     },
     "execution_count": 210,
     "metadata": {},
     "output_type": "execute_result"
    }
   ],
   "source": [
    "arr13e #Visualizo el array"
   ]
  },
  {
   "cell_type": "code",
   "execution_count": 211,
   "metadata": {},
   "outputs": [
    {
     "data": {
      "text/plain": [
       "array([-0.19321288,  0.0184919 ,  0.68510685,  2.02995821, -2.59141451,\n",
       "       -2.8486281 ,  2.34642143, -1.56828676])"
      ]
     },
     "execution_count": 211,
     "metadata": {},
     "output_type": "execute_result"
    }
   ],
   "source": [
    "np.tan(arr13e)"
   ]
  },
  {
   "cell_type": "markdown",
   "metadata": {},
   "source": [
    "### 13f. tanh. Tangente Hiperbolico "
   ]
  },
  {
   "cell_type": "code",
   "execution_count": 212,
   "metadata": {},
   "outputs": [],
   "source": [
    "arr13f = randn(8) #Creo un array de 8 valores aleatorios"
   ]
  },
  {
   "cell_type": "code",
   "execution_count": 213,
   "metadata": {},
   "outputs": [
    {
     "data": {
      "text/plain": [
       "array([ 1.13616936, -0.60951429,  1.43103049,  0.08890538, -0.69271343,\n",
       "        0.31613655,  0.96445817, -0.47307532])"
      ]
     },
     "execution_count": 213,
     "metadata": {},
     "output_type": "execute_result"
    }
   ],
   "source": [
    "arr13f #Visualizo el array"
   ]
  },
  {
   "cell_type": "code",
   "execution_count": 214,
   "metadata": {},
   "outputs": [
    {
     "data": {
      "text/plain": [
       "array([ 0.81312017, -0.5437851 ,  0.89187758,  0.08867187, -0.59972233,\n",
       "        0.30600941,  0.74625885, -0.44068076])"
      ]
     },
     "execution_count": 214,
     "metadata": {},
     "output_type": "execute_result"
    }
   ],
   "source": [
    "np.tanh(arr13f)"
   ]
  },
  {
   "cell_type": "markdown",
   "metadata": {},
   "source": [
    "De esta forma puedo seguir calculando otras funciones trigonometricas:\n",
    "\n",
    "arcos - Arco coseno\n",
    "\n",
    "arcosh - Arco coseno hiperbolico\n",
    "\n",
    "arcsin - Arco seno\n",
    "\n",
    "arcsinh - Arco seno hiperbolico\n",
    "\n",
    "arctan - Arco tangente\n",
    "\n",
    "arctanh - Arco tangenete hiperbolico"
   ]
  },
  {
   "cell_type": "markdown",
   "metadata": {},
   "source": [
    "### 14. logical_not"
   ]
  },
  {
   "cell_type": "code",
   "execution_count": 218,
   "metadata": {},
   "outputs": [],
   "source": [
    "arr14 = randn(8) #Creo un array de 8 elementos aleatorios"
   ]
  },
  {
   "cell_type": "code",
   "execution_count": 219,
   "metadata": {},
   "outputs": [
    {
     "data": {
      "text/plain": [
       "array([ 1.02977364,  2.44543441,  0.70649341,  0.09725706,  0.76459872,\n",
       "        1.04446932,  0.04326689, -1.36108315])"
      ]
     },
     "execution_count": 219,
     "metadata": {},
     "output_type": "execute_result"
    }
   ],
   "source": [
    "arr14 #Visualizo el array"
   ]
  },
  {
   "cell_type": "code",
   "execution_count": 217,
   "metadata": {},
   "outputs": [
    {
     "data": {
      "text/plain": [
       "array([False, False, False, False, False, False, False, False])"
      ]
     },
     "execution_count": 217,
     "metadata": {},
     "output_type": "execute_result"
    }
   ],
   "source": [
    "np.logical_not(arr14)"
   ]
  },
  {
   "cell_type": "markdown",
   "metadata": {},
   "source": [
    "## Table 4-4 Binary Universal Functions"
   ]
  },
  {
   "attachments": {
    "image.png": {
     "image/png": "[encoded data removed]"
    }
   },
   "cell_type": "markdown",
   "metadata": {},
   "source": [
    "![image.png](attachment:image.png)\n",
    "![image.png](attachment:image.png)"
   ]
  },
  {
   "cell_type": "markdown",
   "metadata": {},
   "source": [
    "### 1. add - Suma arrays elemento a elemento "
   ]
  },
  {
   "cell_type": "code",
   "execution_count": 231,
   "metadata": {},
   "outputs": [],
   "source": [
    "#Creo 2 array de numeros aleatorios\n",
    "\n",
    "s1 = randn(8)\n",
    "s2 = randn(8)\n",
    "s3 = randn(8)"
   ]
  },
  {
   "cell_type": "code",
   "execution_count": 233,
   "metadata": {},
   "outputs": [
    {
     "data": {
      "text/plain": [
       "(array([-1.9390415 ,  0.66762645,  0.4018233 ,  0.48105976,  1.74727487,\n",
       "         0.60038863, -0.28516017,  0.55295258]),\n",
       " array([-1.42040952, -0.79669341, -1.64020986, -0.69022591, -0.93884454,\n",
       "        -0.11761818, -0.51801115,  0.69558223]),\n",
       " array([ 0.34474514,  0.74633228,  0.06829182, -1.76149045, -0.55776037,\n",
       "        -0.50043191, -0.69140147, -0.59382803]))"
      ]
     },
     "execution_count": 233,
     "metadata": {},
     "output_type": "execute_result"
    }
   ],
   "source": [
    "s1,s2,s3 #Visualizo los arrays"
   ]
  },
  {
   "cell_type": "code",
   "execution_count": 234,
   "metadata": {},
   "outputs": [
    {
     "data": {
      "text/plain": [
       "array([-3.35945102, -0.12906696, -1.23838655, -0.20916614,  0.80843033,\n",
       "        0.48277046, -0.80317132,  1.24853481])"
      ]
     },
     "execution_count": 234,
     "metadata": {},
     "output_type": "execute_result"
    }
   ],
   "source": [
    "np.add(s1,s2,s3) #Realizo la suma de los arrays elemento a elemento"
   ]
  },
  {
   "cell_type": "code",
   "execution_count": 248,
   "metadata": {},
   "outputs": [],
   "source": [
    "#Creo 2 arrays\n",
    "\n",
    "s4 = np.arange(10)*2.56\n",
    "s5 = np.arange(10)*3.41"
   ]
  },
  {
   "cell_type": "code",
   "execution_count": 249,
   "metadata": {},
   "outputs": [
    {
     "data": {
      "text/plain": [
       "(array([ 0.  ,  2.56,  5.12,  7.68, 10.24, 12.8 , 15.36, 17.92, 20.48,\n",
       "        23.04]),\n",
       " array([ 0.  ,  3.41,  6.82, 10.23, 13.64, 17.05, 20.46, 23.87, 27.28,\n",
       "        30.69]))"
      ]
     },
     "execution_count": 249,
     "metadata": {},
     "output_type": "execute_result"
    }
   ],
   "source": [
    "s4,s5 #Visualizo los arrays"
   ]
  },
  {
   "cell_type": "code",
   "execution_count": 250,
   "metadata": {},
   "outputs": [
    {
     "data": {
      "text/plain": [
       "array([ 0.  ,  5.97, 11.94, 17.91, 23.88, 29.85, 35.82, 41.79, 47.76,\n",
       "       53.73])"
      ]
     },
     "execution_count": 250,
     "metadata": {},
     "output_type": "execute_result"
    }
   ],
   "source": [
    "np.add(s4,s5) #Realizo la suma de los arrays elemento a elemento"
   ]
  },
  {
   "cell_type": "markdown",
   "metadata": {},
   "source": [
    "### 2.subtract  - Resto arrays elemento a elemento "
   ]
  },
  {
   "cell_type": "code",
   "execution_count": 251,
   "metadata": {},
   "outputs": [
    {
     "data": {
      "text/plain": [
       "(array([-1.9390415 ,  0.66762645,  0.4018233 ,  0.48105976,  1.74727487,\n",
       "         0.60038863, -0.28516017,  0.55295258]),\n",
       " array([-1.42040952, -0.79669341, -1.64020986, -0.69022591, -0.93884454,\n",
       "        -0.11761818, -0.51801115,  0.69558223]),\n",
       " array([-3.35945102, -0.12906696, -1.23838655, -0.20916614,  0.80843033,\n",
       "         0.48277046, -0.80317132,  1.24853481]))"
      ]
     },
     "execution_count": 251,
     "metadata": {},
     "output_type": "execute_result"
    }
   ],
   "source": [
    "s1,s2,s3 #Visualizo arrays creados anteriormente"
   ]
  },
  {
   "cell_type": "code",
   "execution_count": 256,
   "metadata": {},
   "outputs": [
    {
     "data": {
      "text/plain": [
       "array([-0.51863198,  1.46431986,  2.04203316,  1.17128567,  2.68611941,\n",
       "        0.71800681,  0.23285098, -0.14262965])"
      ]
     },
     "execution_count": 256,
     "metadata": {},
     "output_type": "execute_result"
    }
   ],
   "source": [
    "np.subtract(s1,s2,s3) #Realizo la resta de los 3 arrays"
   ]
  },
  {
   "cell_type": "code",
   "execution_count": 257,
   "metadata": {},
   "outputs": [
    {
     "data": {
      "text/plain": [
       "(array([ 0.  ,  2.56,  5.12,  7.68, 10.24, 12.8 , 15.36, 17.92, 20.48,\n",
       "        23.04]),\n",
       " array([ 0.  ,  3.41,  6.82, 10.23, 13.64, 17.05, 20.46, 23.87, 27.28,\n",
       "        30.69]))"
      ]
     },
     "execution_count": 257,
     "metadata": {},
     "output_type": "execute_result"
    }
   ],
   "source": [
    "s4,s5 #Visualizo arrays creados anteriormente"
   ]
  },
  {
   "cell_type": "code",
   "execution_count": 258,
   "metadata": {},
   "outputs": [
    {
     "data": {
      "text/plain": [
       "array([ 0.  , -0.85, -1.7 , -2.55, -3.4 , -4.25, -5.1 , -5.95, -6.8 ,\n",
       "       -7.65])"
      ]
     },
     "execution_count": 258,
     "metadata": {},
     "output_type": "execute_result"
    }
   ],
   "source": [
    "np.subtract(s4,s5) #Realizo la restade los 2 arrays"
   ]
  },
  {
   "cell_type": "markdown",
   "metadata": {},
   "source": [
    "### 3. multiply - Multiplicacion de arrays elemento a elemento "
   ]
  },
  {
   "cell_type": "code",
   "execution_count": 259,
   "metadata": {},
   "outputs": [],
   "source": [
    "#Creo 2 arrays de numeros enteros\n",
    "\n",
    "s6 = np.arange(5)\n",
    "s7 = np.arange(5)"
   ]
  },
  {
   "cell_type": "code",
   "execution_count": 260,
   "metadata": {},
   "outputs": [
    {
     "data": {
      "text/plain": [
       "(array([0, 1, 2, 3, 4]), array([0, 1, 2, 3, 4]))"
      ]
     },
     "execution_count": 260,
     "metadata": {},
     "output_type": "execute_result"
    }
   ],
   "source": [
    "s6,s7 #Visualizo los arrays"
   ]
  },
  {
   "cell_type": "code",
   "execution_count": 262,
   "metadata": {},
   "outputs": [
    {
     "data": {
      "text/plain": [
       "array([ 0,  1,  4,  9, 16])"
      ]
     },
     "execution_count": 262,
     "metadata": {},
     "output_type": "execute_result"
    }
   ],
   "source": [
    "np.multiply(s6,s7) #Realizo la multiplicacion elemento a elemento"
   ]
  },
  {
   "cell_type": "markdown",
   "metadata": {},
   "source": [
    "### 4a. Divide - Division de arrays elemento a elemento"
   ]
  },
  {
   "cell_type": "code",
   "execution_count": 272,
   "metadata": {},
   "outputs": [],
   "source": [
    "#Creo 2 arrays de numeros enteros\n",
    "\n",
    "s8 = np.arange(5)+1\n",
    "s9 = np.ones(5,dtype=int)*2"
   ]
  },
  {
   "cell_type": "code",
   "execution_count": 274,
   "metadata": {},
   "outputs": [
    {
     "data": {
      "text/plain": [
       "(array([1, 2, 3, 4, 5]), array([2, 2, 2, 2, 2]))"
      ]
     },
     "execution_count": 274,
     "metadata": {},
     "output_type": "execute_result"
    }
   ],
   "source": [
    "s8,s9 #Visualizo los arrays"
   ]
  },
  {
   "cell_type": "code",
   "execution_count": 275,
   "metadata": {},
   "outputs": [
    {
     "data": {
      "text/plain": [
       "array([0.5, 1. , 1.5, 2. , 2.5])"
      ]
     },
     "execution_count": 275,
     "metadata": {},
     "output_type": "execute_result"
    }
   ],
   "source": [
    "np.divide(s8,s9)"
   ]
  },
  {
   "cell_type": "markdown",
   "metadata": {},
   "source": [
    "### 4b. floor_divide - Divison truncando la parte decimal"
   ]
  },
  {
   "cell_type": "code",
   "execution_count": 276,
   "metadata": {},
   "outputs": [
    {
     "data": {
      "text/plain": [
       "array([0, 1, 1, 2, 2], dtype=int32)"
      ]
     },
     "execution_count": 276,
     "metadata": {},
     "output_type": "execute_result"
    }
   ],
   "source": [
    "np.floor_divide(s8,s9)"
   ]
  },
  {
   "cell_type": "code",
   "execution_count": 279,
   "metadata": {},
   "outputs": [
    {
     "data": {
      "text/plain": [
       "array([2, 1, 0, 0, 0], dtype=int32)"
      ]
     },
     "execution_count": 279,
     "metadata": {},
     "output_type": "execute_result"
    }
   ],
   "source": [
    "np.floor_divide(s9,s8)"
   ]
  },
  {
   "cell_type": "markdown",
   "metadata": {},
   "source": [
    "### 5. power"
   ]
  },
  {
   "cell_type": "markdown",
   "metadata": {},
   "source": [
    "Los elementos del 1° array son condiderados la base y los elementos del 2° array son considerados la potencia"
   ]
  },
  {
   "cell_type": "code",
   "execution_count": 280,
   "metadata": {},
   "outputs": [
    {
     "data": {
      "text/plain": [
       "(array([1, 2, 3, 4, 5]), array([2, 2, 2, 2, 2]))"
      ]
     },
     "execution_count": 280,
     "metadata": {},
     "output_type": "execute_result"
    }
   ],
   "source": [
    "#Visualizo arrays creados con anterioridad\n",
    "\n",
    "s8,s9"
   ]
  },
  {
   "cell_type": "code",
   "execution_count": 281,
   "metadata": {},
   "outputs": [
    {
     "data": {
      "text/plain": [
       "array([ 1,  4,  9, 16, 25], dtype=int32)"
      ]
     },
     "execution_count": 281,
     "metadata": {},
     "output_type": "execute_result"
    }
   ],
   "source": [
    "np.power(s8,s9)"
   ]
  },
  {
   "cell_type": "code",
   "execution_count": 282,
   "metadata": {},
   "outputs": [
    {
     "data": {
      "text/plain": [
       "array([   1,    4,   27,  256, 3125], dtype=int32)"
      ]
     },
     "execution_count": 282,
     "metadata": {},
     "output_type": "execute_result"
    }
   ],
   "source": [
    "np.power(s8,s8)"
   ]
  },
  {
   "cell_type": "code",
   "execution_count": 283,
   "metadata": {},
   "outputs": [
    {
     "data": {
      "text/plain": [
       "array([4, 4, 4, 4, 4], dtype=int32)"
      ]
     },
     "execution_count": 283,
     "metadata": {},
     "output_type": "execute_result"
    }
   ],
   "source": [
    "np.power(s9,s9)"
   ]
  },
  {
   "cell_type": "code",
   "execution_count": 284,
   "metadata": {},
   "outputs": [
    {
     "data": {
      "text/plain": [
       "27"
      ]
     },
     "execution_count": 284,
     "metadata": {},
     "output_type": "execute_result"
    }
   ],
   "source": [
    "np.power(3,3)"
   ]
  },
  {
   "cell_type": "markdown",
   "metadata": {},
   "source": [
    "### 6. Maximum - Selecciona el valor maximo elemento a elemento de 2 o mas arrays"
   ]
  },
  {
   "cell_type": "code",
   "execution_count": 296,
   "metadata": {},
   "outputs": [],
   "source": [
    "#Creo 3 arrays de 50 numeros aleatorios cada uno\n",
    "\n",
    "s10 = randn(50)\n",
    "s11 = randn(50)\n",
    "s12 = randn(50)"
   ]
  },
  {
   "cell_type": "code",
   "execution_count": 293,
   "metadata": {},
   "outputs": [
    {
     "data": {
      "text/plain": [
       "(array([ 0.569891  ,  0.41576764, -0.07523292,  1.63335654,  1.03437222,\n",
       "         1.31400327,  1.36474048,  1.18630865, -0.75887604, -1.50480569,\n",
       "         0.54979956, -1.14502584, -1.69525477,  0.30152843, -0.41556528,\n",
       "         1.0242879 ,  0.52892153,  2.78143891, -0.63415189,  0.62727699,\n",
       "         2.97580196,  1.11724076,  1.97239512, -0.93877935, -0.25550631,\n",
       "         1.09183487,  0.31918942, -0.04015579, -1.08535997, -0.64718209,\n",
       "        -1.25921987, -0.40703228, -0.70548106, -0.49768906,  0.0286744 ,\n",
       "         0.74954654, -0.84596678, -0.83512971,  1.71965162,  0.80913981,\n",
       "         0.38054622,  0.91547734, -1.71109985,  0.06926507,  0.50431521,\n",
       "         0.7990395 ,  1.36412722,  0.73795043, -0.29078145, -0.25164941]),\n",
       " array([ 0.69716206,  1.5245305 , -0.28325221,  1.7405565 , -1.40077258,\n",
       "         1.94266451, -0.12231353,  0.62178548,  1.20179166, -0.24361236,\n",
       "        -0.39367922, -0.72549956, -0.10740859,  0.07671395,  1.35167491,\n",
       "        -0.59461744, -0.9486447 , -0.13435953,  1.03958289,  0.7819031 ,\n",
       "        -1.25519732,  0.61236139,  0.44767404, -1.5473857 , -1.26107806,\n",
       "         1.49315823,  0.86580391, -0.21133571, -0.80139874,  1.40957855,\n",
       "         0.98606973,  0.96320864, -1.33396977, -0.18076051, -0.20647299,\n",
       "        -0.21076869, -0.3556713 , -0.6567217 ,  0.97152737,  0.24339832,\n",
       "         0.52423798,  1.29762711,  2.32138264,  0.48071768,  0.62507262,\n",
       "        -0.93345248, -0.65498842,  1.01569399,  2.71506882, -0.54619187]),\n",
       " array([ 1.02319622, -0.47111771,  0.96262322, -0.27978784, -0.20730358,\n",
       "         1.49430357, -0.98691363,  0.74281869, -0.13097608, -0.91930327,\n",
       "         0.24245219, -0.49581406,  1.857946  , -0.77771709, -1.14490611,\n",
       "         0.85590069,  1.39961053,  2.39138762, -1.76691897, -0.66647316,\n",
       "        -0.61795369, -0.57071356, -0.51572356, -1.27868089, -1.0035729 ,\n",
       "         1.37380921, -0.70616877, -1.68266393, -0.3156505 , -0.12786397,\n",
       "         2.17161334,  0.13282872,  0.97869732, -0.4867924 ,  1.23893546,\n",
       "         0.45315824,  1.56513606,  0.06038723, -0.34577944, -0.74299662,\n",
       "         0.75309714,  0.31423841,  0.26720321, -1.68004713, -1.106106  ,\n",
       "        -0.8520454 ,  0.77317463, -0.98662051,  0.57096951,  0.6587236 ]))"
      ]
     },
     "execution_count": 293,
     "metadata": {},
     "output_type": "execute_result"
    }
   ],
   "source": [
    "s10,s11,s12"
   ]
  },
  {
   "cell_type": "code",
   "execution_count": 294,
   "metadata": {},
   "outputs": [
    {
     "data": {
      "text/plain": [
       "array([ 0.69716206,  1.5245305 , -0.07523292,  1.7405565 ,  1.03437222,\n",
       "        1.94266451,  1.36474048,  1.18630865,  1.20179166, -0.24361236,\n",
       "        0.54979956, -0.72549956, -0.10740859,  0.30152843,  1.35167491,\n",
       "        1.0242879 ,  0.52892153,  2.78143891,  1.03958289,  0.7819031 ,\n",
       "        2.97580196,  1.11724076,  1.97239512, -0.93877935, -0.25550631,\n",
       "        1.49315823,  0.86580391, -0.04015579, -0.80139874,  1.40957855,\n",
       "        0.98606973,  0.96320864, -0.70548106, -0.18076051,  0.0286744 ,\n",
       "        0.74954654, -0.3556713 , -0.6567217 ,  1.71965162,  0.80913981,\n",
       "        0.52423798,  1.29762711,  2.32138264,  0.48071768,  0.62507262,\n",
       "        0.7990395 ,  1.36412722,  1.01569399,  2.71506882, -0.25164941])"
      ]
     },
     "execution_count": 294,
     "metadata": {},
     "output_type": "execute_result"
    }
   ],
   "source": [
    "np.maximum(s10,s11,s12)"
   ]
  },
  {
   "cell_type": "markdown",
   "metadata": {},
   "source": [
    "El comando \"fmax\" permite realizar la misma opracion que maximum pero ignorando los elementos NaN"
   ]
  },
  {
   "cell_type": "markdown",
   "metadata": {},
   "source": [
    "### 7. Minimum - Selecciona el valor minimo elemento a elemento de 2 o mas arrays"
   ]
  },
  {
   "cell_type": "code",
   "execution_count": 295,
   "metadata": {},
   "outputs": [
    {
     "data": {
      "text/plain": [
       "(array([ 0.569891  ,  0.41576764, -0.07523292,  1.63335654,  1.03437222,\n",
       "         1.31400327,  1.36474048,  1.18630865, -0.75887604, -1.50480569,\n",
       "         0.54979956, -1.14502584, -1.69525477,  0.30152843, -0.41556528,\n",
       "         1.0242879 ,  0.52892153,  2.78143891, -0.63415189,  0.62727699,\n",
       "         2.97580196,  1.11724076,  1.97239512, -0.93877935, -0.25550631,\n",
       "         1.09183487,  0.31918942, -0.04015579, -1.08535997, -0.64718209,\n",
       "        -1.25921987, -0.40703228, -0.70548106, -0.49768906,  0.0286744 ,\n",
       "         0.74954654, -0.84596678, -0.83512971,  1.71965162,  0.80913981,\n",
       "         0.38054622,  0.91547734, -1.71109985,  0.06926507,  0.50431521,\n",
       "         0.7990395 ,  1.36412722,  0.73795043, -0.29078145, -0.25164941]),\n",
       " array([ 0.69716206,  1.5245305 , -0.28325221,  1.7405565 , -1.40077258,\n",
       "         1.94266451, -0.12231353,  0.62178548,  1.20179166, -0.24361236,\n",
       "        -0.39367922, -0.72549956, -0.10740859,  0.07671395,  1.35167491,\n",
       "        -0.59461744, -0.9486447 , -0.13435953,  1.03958289,  0.7819031 ,\n",
       "        -1.25519732,  0.61236139,  0.44767404, -1.5473857 , -1.26107806,\n",
       "         1.49315823,  0.86580391, -0.21133571, -0.80139874,  1.40957855,\n",
       "         0.98606973,  0.96320864, -1.33396977, -0.18076051, -0.20647299,\n",
       "        -0.21076869, -0.3556713 , -0.6567217 ,  0.97152737,  0.24339832,\n",
       "         0.52423798,  1.29762711,  2.32138264,  0.48071768,  0.62507262,\n",
       "        -0.93345248, -0.65498842,  1.01569399,  2.71506882, -0.54619187]),\n",
       " array([ 0.69716206,  1.5245305 , -0.07523292,  1.7405565 ,  1.03437222,\n",
       "         1.94266451,  1.36474048,  1.18630865,  1.20179166, -0.24361236,\n",
       "         0.54979956, -0.72549956, -0.10740859,  0.30152843,  1.35167491,\n",
       "         1.0242879 ,  0.52892153,  2.78143891,  1.03958289,  0.7819031 ,\n",
       "         2.97580196,  1.11724076,  1.97239512, -0.93877935, -0.25550631,\n",
       "         1.49315823,  0.86580391, -0.04015579, -0.80139874,  1.40957855,\n",
       "         0.98606973,  0.96320864, -0.70548106, -0.18076051,  0.0286744 ,\n",
       "         0.74954654, -0.3556713 , -0.6567217 ,  1.71965162,  0.80913981,\n",
       "         0.52423798,  1.29762711,  2.32138264,  0.48071768,  0.62507262,\n",
       "         0.7990395 ,  1.36412722,  1.01569399,  2.71506882, -0.25164941]))"
      ]
     },
     "execution_count": 295,
     "metadata": {},
     "output_type": "execute_result"
    }
   ],
   "source": [
    "s10,s11,s12 #Visualizo 3 arrays creados anteriormente"
   ]
  },
  {
   "cell_type": "code",
   "execution_count": 297,
   "metadata": {},
   "outputs": [
    {
     "data": {
      "text/plain": [
       "array([-0.99507268, -1.96261668, -0.67056729,  0.19318905,  0.23975784,\n",
       "       -1.06491955, -1.48584091, -0.97028167,  0.03666168,  0.53540194,\n",
       "        0.08858688,  0.06665191, -1.26316819,  0.09326924, -1.0382211 ,\n",
       "        0.34057225, -1.67145162, -0.34257314,  0.38830102, -0.98514549,\n",
       "        0.0045359 , -0.03323352,  0.02919624, -0.77649249, -0.18636681,\n",
       "        0.29842801, -0.55816112, -1.36841838,  0.72987831,  0.37084912,\n",
       "       -0.92419367, -0.19974126, -1.39865054, -2.21390282,  0.42281672,\n",
       "        0.6072422 , -0.43707742,  0.20039865, -3.1794961 , -0.27000562,\n",
       "       -0.20605907,  0.25308432, -1.02837096,  0.17622341,  0.33796887,\n",
       "        0.03773791,  0.63556517, -0.89503472, -0.77155596, -0.76229167])"
      ]
     },
     "execution_count": 297,
     "metadata": {},
     "output_type": "execute_result"
    }
   ],
   "source": [
    "np.minimum(s10,s11,s12)"
   ]
  },
  {
   "cell_type": "markdown",
   "metadata": {},
   "source": [
    "### 8.mod -  "
   ]
  },
  {
   "cell_type": "markdown",
   "metadata": {},
   "source": [
    "### 9 - copysing - Copia el signo del segundo argumento (array) en el primer argumento (array)"
   ]
  },
  {
   "cell_type": "code",
   "execution_count": 343,
   "metadata": {},
   "outputs": [],
   "source": [
    "#Creo 2 arrays de elementos con signos diferentes\n",
    "\n",
    "a = np.arange(10)*1.5\n",
    "b = np.arange(10)*-1.8"
   ]
  },
  {
   "cell_type": "code",
   "execution_count": 344,
   "metadata": {},
   "outputs": [
    {
     "data": {
      "text/plain": [
       "(array([ 0. ,  1.5,  3. ,  4.5,  6. ,  7.5,  9. , 10.5, 12. , 13.5]),\n",
       " array([ -0. ,  -1.8,  -3.6,  -5.4,  -7.2,  -9. , -10.8, -12.6, -14.4,\n",
       "        -16.2]))"
      ]
     },
     "execution_count": 344,
     "metadata": {},
     "output_type": "execute_result"
    }
   ],
   "source": [
    "a,b #Visualizo los arrays"
   ]
  },
  {
   "cell_type": "code",
   "execution_count": 345,
   "metadata": {},
   "outputs": [
    {
     "data": {
      "text/plain": [
       "array([ -0. ,  -1.5,  -3. ,  -4.5,  -6. ,  -7.5,  -9. , -10.5, -12. ,\n",
       "       -13.5])"
      ]
     },
     "execution_count": 345,
     "metadata": {},
     "output_type": "execute_result"
    }
   ],
   "source": [
    "np.copysign(a,b) #Realizo la copia del signo del array b al array a"
   ]
  },
  {
   "cell_type": "code",
   "execution_count": 347,
   "metadata": {},
   "outputs": [
    {
     "data": {
      "text/plain": [
       "array([ 0. ,  1.8,  3.6,  5.4,  7.2,  9. , 10.8, 12.6, 14.4, 16.2])"
      ]
     },
     "execution_count": 347,
     "metadata": {},
     "output_type": "execute_result"
    }
   ],
   "source": [
    "np.copysign(b,a) #Realizo la copia del signo a al array a"
   ]
  },
  {
   "cell_type": "markdown",
   "metadata": {},
   "source": [
    "### 10A. greater - Realiza la comparacion \"mayor que\" entre argumentos y entrega como resultado un array booleano "
   ]
  },
  {
   "cell_type": "code",
   "execution_count": 350,
   "metadata": {},
   "outputs": [],
   "source": [
    "#Creo 2 arrays de numeros aleatorios\n",
    "\n",
    "s14 = randn(20)\n",
    "s15 = randn(20)"
   ]
  },
  {
   "cell_type": "code",
   "execution_count": 351,
   "metadata": {},
   "outputs": [
    {
     "data": {
      "text/plain": [
       "(array([-0.34747727,  2.74576073, -1.54401717,  0.81895828, -0.23425233,\n",
       "         1.23893997, -0.11233604,  0.169783  , -0.82186372, -0.60923318,\n",
       "        -2.33831126, -0.83901617,  0.14844795, -0.72315746,  1.78105277,\n",
       "        -0.20686573, -0.02970111, -0.07477844, -1.54155502, -0.4090627 ]),\n",
       " array([ 1.89427882, -2.06245638,  0.28920635,  0.83884711,  0.87600303,\n",
       "        -0.23962295,  1.69681363,  1.26677345,  1.79520216,  1.68632278,\n",
       "         0.60550269,  0.69685442, -0.09279084, -0.46588552, -1.53830789,\n",
       "         0.4031439 , -1.95115938, -0.30074168,  0.46903482,  1.40450884]))"
      ]
     },
     "execution_count": 351,
     "metadata": {},
     "output_type": "execute_result"
    }
   ],
   "source": [
    "s14,s15 #Visualizo los arrays"
   ]
  },
  {
   "cell_type": "code",
   "execution_count": 352,
   "metadata": {},
   "outputs": [
    {
     "data": {
      "text/plain": [
       "array([False,  True, False, False, False,  True, False, False, False,\n",
       "       False, False, False,  True, False,  True, False,  True,  True,\n",
       "       False, False])"
      ]
     },
     "execution_count": 352,
     "metadata": {},
     "output_type": "execute_result"
    }
   ],
   "source": [
    "np.greater(s14,s15) #Realizo la comparacion \"mayor que\" entre los elementos del array s14 y array s15"
   ]
  },
  {
   "cell_type": "code",
   "execution_count": 354,
   "metadata": {},
   "outputs": [
    {
     "data": {
      "text/plain": [
       "array([ True, False,  True,  True,  True, False,  True,  True,  True,\n",
       "        True,  True,  True, False,  True, False,  True, False, False,\n",
       "        True,  True])"
      ]
     },
     "execution_count": 354,
     "metadata": {},
     "output_type": "execute_result"
    }
   ],
   "source": [
    " np.greater(s15,s14) #Realizo la comparacion \"mayor que\" entre los elementos del array s15 y array s14"
   ]
  },
  {
   "cell_type": "markdown",
   "metadata": {},
   "source": [
    "### 10B. greater_equal - Realiza la comparacion \"mayor o igual que\" entre argumentos y entrega como resultado un array booleano "
   ]
  },
  {
   "cell_type": "code",
   "execution_count": 355,
   "metadata": {},
   "outputs": [],
   "source": [
    "#Creo 2 arrays de numeros aleatorios\n",
    "\n",
    "s16 = randn(10)\n",
    "s17 = randn(10)"
   ]
  },
  {
   "cell_type": "code",
   "execution_count": 356,
   "metadata": {},
   "outputs": [
    {
     "data": {
      "text/plain": [
       "(array([ 0.44128915,  2.74838321, -0.92010938, -1.63580695,  0.59952113,\n",
       "        -0.36649007, -1.61392136, -1.91795008,  0.27051146,  0.93617168]),\n",
       " array([-0.40659056, -1.65327328,  0.7797035 ,  0.55688264,  0.11586537,\n",
       "         1.25434445, -0.45930518, -0.96538075,  1.05491544,  0.57558751]))"
      ]
     },
     "execution_count": 356,
     "metadata": {},
     "output_type": "execute_result"
    }
   ],
   "source": [
    "s16,s17 #Visualizo los arrays"
   ]
  },
  {
   "cell_type": "code",
   "execution_count": 357,
   "metadata": {},
   "outputs": [
    {
     "data": {
      "text/plain": [
       "array([ True,  True, False, False,  True, False, False, False, False,\n",
       "        True])"
      ]
     },
     "execution_count": 357,
     "metadata": {},
     "output_type": "execute_result"
    }
   ],
   "source": [
    "np.greater_equal(s16,s17) #Realizo la comparacion \"mayor o igual que\" entre los elementos del array s16 y array s17"
   ]
  },
  {
   "cell_type": "code",
   "execution_count": 358,
   "metadata": {},
   "outputs": [
    {
     "data": {
      "text/plain": [
       "array([False, False,  True,  True, False,  True,  True,  True,  True,\n",
       "       False])"
      ]
     },
     "execution_count": 358,
     "metadata": {},
     "output_type": "execute_result"
    }
   ],
   "source": [
    "np.greater_equal(s17,s16) #Realizo la comparacion \"mayor o igual que\" entre los elementos del array s17 y array s16"
   ]
  },
  {
   "cell_type": "markdown",
   "metadata": {},
   "source": [
    "### 10C. less - Realiza la comparacion \"menor que\" entre argumentos y entrega como resultado un array booleano "
   ]
  },
  {
   "cell_type": "code",
   "execution_count": 359,
   "metadata": {},
   "outputs": [],
   "source": [
    "#Creo 2 arrys de numeros aleatorios\n",
    "\n",
    "s18 = randn(15)\n",
    "s19 = randn(15)"
   ]
  },
  {
   "cell_type": "code",
   "execution_count": 360,
   "metadata": {},
   "outputs": [
    {
     "data": {
      "text/plain": [
       "(array([ 0.7422676 ,  0.38291198, -1.54614129, -1.03754665, -0.5611855 ,\n",
       "         0.18603074, -0.78699708, -0.50576048, -0.10819307,  0.41051573,\n",
       "         0.84473648, -1.06042631,  1.45135634,  0.67895473, -0.18608353]),\n",
       " array([-0.4697276 ,  0.48971369, -0.34179409, -0.59589023,  0.39603426,\n",
       "        -0.03909792,  1.01172493,  0.15251657,  0.91585064,  0.87684966,\n",
       "         0.04110021, -0.96488358, -0.19564375, -1.04498834,  0.01225443]))"
      ]
     },
     "execution_count": 360,
     "metadata": {},
     "output_type": "execute_result"
    }
   ],
   "source": [
    "s18,s19 #Visualizo los arrays"
   ]
  },
  {
   "cell_type": "code",
   "execution_count": 361,
   "metadata": {},
   "outputs": [
    {
     "data": {
      "text/plain": [
       "array([False,  True,  True,  True,  True, False,  True,  True,  True,\n",
       "        True, False,  True, False, False,  True])"
      ]
     },
     "execution_count": 361,
     "metadata": {},
     "output_type": "execute_result"
    }
   ],
   "source": [
    "np.less(s18,s19) #Realizo la comparacion \"menor que\" entre los elementos del array s18 y array s19"
   ]
  },
  {
   "cell_type": "code",
   "execution_count": 362,
   "metadata": {},
   "outputs": [
    {
     "data": {
      "text/plain": [
       "array([ True, False, False, False, False,  True, False, False, False,\n",
       "       False,  True, False,  True,  True, False])"
      ]
     },
     "execution_count": 362,
     "metadata": {},
     "output_type": "execute_result"
    }
   ],
   "source": [
    "np.less(s19,s18) #Realizo la comparacion \"menor que\" entre los elementos del array s19 y array s18"
   ]
  },
  {
   "cell_type": "markdown",
   "metadata": {},
   "source": [
    "### 10D. less_equal -  Realiza la comparacion \"menor o igual que\" entre argumentos y entrega como resultado un array booleano"
   ]
  },
  {
   "cell_type": "code",
   "execution_count": 363,
   "metadata": {},
   "outputs": [],
   "source": [
    "#Creo 2 arrays de numeros aleatorios\n",
    "\n",
    "s20 = randn(10)\n",
    "s21 = randn(10)"
   ]
  },
  {
   "cell_type": "code",
   "execution_count": 364,
   "metadata": {},
   "outputs": [
    {
     "data": {
      "text/plain": [
       "(array([-2.7502258 , -0.09663209,  0.92081065, -2.19392367,  1.79446086,\n",
       "         1.63469858,  1.17723539, -2.29166161, -0.4496978 , -1.83227173]),\n",
       " array([-0.94673477,  2.62592223,  1.21149652,  0.44925443, -1.70945889,\n",
       "        -1.05312962,  0.76891893,  1.90359619,  0.34420201,  1.45397767]))"
      ]
     },
     "execution_count": 364,
     "metadata": {},
     "output_type": "execute_result"
    }
   ],
   "source": [
    "s20,s21 #Visualizo los arrays"
   ]
  },
  {
   "cell_type": "code",
   "execution_count": 365,
   "metadata": {},
   "outputs": [
    {
     "data": {
      "text/plain": [
       "array([ True,  True,  True,  True, False, False, False,  True,  True,\n",
       "        True])"
      ]
     },
     "execution_count": 365,
     "metadata": {},
     "output_type": "execute_result"
    }
   ],
   "source": [
    "np.less_equal(s20,s21) #Realizo la comparacion \"menor o igual que\" entre los elementos del array s20 y array s21"
   ]
  },
  {
   "cell_type": "code",
   "execution_count": 366,
   "metadata": {},
   "outputs": [
    {
     "data": {
      "text/plain": [
       "array([False, False, False, False,  True,  True,  True, False, False,\n",
       "       False])"
      ]
     },
     "execution_count": 366,
     "metadata": {},
     "output_type": "execute_result"
    }
   ],
   "source": [
    "np.less_equal(s21,s20) #Realizo la comparacion \"menor que\" entre los elementos del array s21 y array s20"
   ]
  },
  {
   "cell_type": "markdown",
   "metadata": {},
   "source": [
    "### 10E. equal -  Realiza la comparacion \"igual\" entre argumentos y entrega como resultado un array boolean"
   ]
  },
  {
   "cell_type": "code",
   "execution_count": 369,
   "metadata": {},
   "outputs": [],
   "source": [
    "#Creo 2 arrays de numeros aleatorios\n",
    "\n",
    "s22 = randn(5)\n",
    "s23 = randn(5)"
   ]
  },
  {
   "cell_type": "code",
   "execution_count": 370,
   "metadata": {},
   "outputs": [
    {
     "data": {
      "text/plain": [
       "(array([-0.00332606,  1.64135107,  0.45823498, -0.32585527,  0.17353763]),\n",
       " array([-0.15511824, -0.16471198, -0.87473128, -0.05872385, -1.37954852]))"
      ]
     },
     "execution_count": 370,
     "metadata": {},
     "output_type": "execute_result"
    }
   ],
   "source": [
    "s22,s23 #Visualizo los arrays"
   ]
  },
  {
   "cell_type": "code",
   "execution_count": 371,
   "metadata": {},
   "outputs": [
    {
     "data": {
      "text/plain": [
       "array([False, False, False, False, False])"
      ]
     },
     "execution_count": 371,
     "metadata": {},
     "output_type": "execute_result"
    }
   ],
   "source": [
    "np.equal(s22,s23) #Realizo la comparacion \"igual\" entre los arrays s22 y s23"
   ]
  },
  {
   "cell_type": "code",
   "execution_count": 375,
   "metadata": {},
   "outputs": [
    {
     "data": {
      "text/plain": [
       "(array([0, 1, 2, 3, 4, 5, 6, 7, 8, 9]), array([0, 1, 2, 3, 4, 5, 6, 7, 8, 9]))"
      ]
     },
     "execution_count": 375,
     "metadata": {},
     "output_type": "execute_result"
    }
   ],
   "source": [
    "t1 = np.arange(10)\n",
    "t2 = np.arange(10)\n",
    "\n",
    "t1,t2"
   ]
  },
  {
   "cell_type": "code",
   "execution_count": 376,
   "metadata": {},
   "outputs": [
    {
     "data": {
      "text/plain": [
       "array([ True,  True,  True,  True,  True,  True,  True,  True,  True,\n",
       "        True])"
      ]
     },
     "execution_count": 376,
     "metadata": {},
     "output_type": "execute_result"
    }
   ],
   "source": [
    "np.equal(t1,t2)"
   ]
  },
  {
   "cell_type": "markdown",
   "metadata": {},
   "source": [
    "### 10F. not_equal - Realiza la comparacion \"no igual\" entre argumentos y entrega como resultado un array boolean"
   ]
  },
  {
   "cell_type": "code",
   "execution_count": 377,
   "metadata": {},
   "outputs": [
    {
     "data": {
      "text/plain": [
       "(array([-0.00332606,  1.64135107,  0.45823498, -0.32585527,  0.17353763]),\n",
       " array([-0.15511824, -0.16471198, -0.87473128, -0.05872385, -1.37954852]))"
      ]
     },
     "execution_count": 377,
     "metadata": {},
     "output_type": "execute_result"
    }
   ],
   "source": [
    "s22,s23 #Visualizo los arrays creados anteriormente"
   ]
  },
  {
   "cell_type": "code",
   "execution_count": 378,
   "metadata": {},
   "outputs": [
    {
     "data": {
      "text/plain": [
       "array([ True,  True,  True,  True,  True])"
      ]
     },
     "execution_count": 378,
     "metadata": {},
     "output_type": "execute_result"
    }
   ],
   "source": [
    "np.not_equal(s22,s23) #Ralizo la comparacion \"no igual\" entre los arrays s22 y s23"
   ]
  },
  {
   "cell_type": "code",
   "execution_count": 379,
   "metadata": {},
   "outputs": [
    {
     "data": {
      "text/plain": [
       "(array([0, 1, 2, 3, 4, 5, 6, 7, 8, 9]), array([0, 1, 2, 3, 4, 5, 6, 7, 8, 9]))"
      ]
     },
     "execution_count": 379,
     "metadata": {},
     "output_type": "execute_result"
    }
   ],
   "source": [
    "t1,t2 #Visualizo los arrays creados anteriormente"
   ]
  },
  {
   "cell_type": "code",
   "execution_count": 380,
   "metadata": {},
   "outputs": [
    {
     "data": {
      "text/plain": [
       "array([False, False, False, False, False, False, False, False, False,\n",
       "       False])"
      ]
     },
     "execution_count": 380,
     "metadata": {},
     "output_type": "execute_result"
    }
   ],
   "source": [
    "np.not_equal(t1,t2) #Realizo la comparacion \"no igual\" entre los arrays t1 y t2"
   ]
  },
  {
   "cell_type": "markdown",
   "metadata": {},
   "source": [
    "### 10G. logical_and - Realizo la comparacion booleana AND y entraga como resultado un array booleano"
   ]
  },
  {
   "cell_type": "code",
   "execution_count": 384,
   "metadata": {},
   "outputs": [],
   "source": [
    "#Creo 2 arrays booleanos\n",
    "\n",
    "t3 = np.array([0,1,1,0,1,1])\n",
    "t4 = np.array([1,0,1,0,1,0])"
   ]
  },
  {
   "cell_type": "code",
   "execution_count": 385,
   "metadata": {},
   "outputs": [
    {
     "data": {
      "text/plain": [
       "(array([0, 1, 1, 0, 1, 1]), array([1, 0, 1, 0, 1, 0]))"
      ]
     },
     "execution_count": 385,
     "metadata": {},
     "output_type": "execute_result"
    }
   ],
   "source": [
    "t3,t4 #Visualizo los arrays"
   ]
  },
  {
   "cell_type": "code",
   "execution_count": 386,
   "metadata": {},
   "outputs": [
    {
     "data": {
      "text/plain": [
       "array([False, False,  True, False,  True, False])"
      ]
     },
     "execution_count": 386,
     "metadata": {},
     "output_type": "execute_result"
    }
   ],
   "source": [
    "np.logical_and(t3,t4) #Realizo la operacion AND entre los arrays t3 y t4"
   ]
  },
  {
   "cell_type": "markdown",
   "metadata": {},
   "source": [
    "### 10H. logical_or - Realizo la comparacion booleana OR y entraga como resultado un array booleano "
   ]
  },
  {
   "cell_type": "code",
   "execution_count": 390,
   "metadata": {},
   "outputs": [
    {
     "data": {
      "text/plain": [
       "(array([0, 1, 1, 0, 1, 1]), array([1, 0, 1, 0, 1, 0]))"
      ]
     },
     "execution_count": 390,
     "metadata": {},
     "output_type": "execute_result"
    }
   ],
   "source": [
    "t3,t4 #Visualizo los arrays creados anteriormente"
   ]
  },
  {
   "cell_type": "code",
   "execution_count": 389,
   "metadata": {},
   "outputs": [
    {
     "data": {
      "text/plain": [
       "array([ True,  True,  True, False,  True,  True])"
      ]
     },
     "execution_count": 389,
     "metadata": {},
     "output_type": "execute_result"
    }
   ],
   "source": [
    "np.logical_or(t3,t4) #Realizo la operacion OR entre los arrays t3 y t4"
   ]
  },
  {
   "cell_type": "markdown",
   "metadata": {},
   "source": [
    "### 10I. logical_xor - Realizo la comparacion booleana XOR y entraga como resultado un array booleano "
   ]
  },
  {
   "cell_type": "code",
   "execution_count": 391,
   "metadata": {},
   "outputs": [
    {
     "data": {
      "text/plain": [
       "(array([0, 1, 1, 0, 1, 1]), array([1, 0, 1, 0, 1, 0]))"
      ]
     },
     "execution_count": 391,
     "metadata": {},
     "output_type": "execute_result"
    }
   ],
   "source": [
    "t3,t4 #Visualizo los arrays creados anteriormente"
   ]
  },
  {
   "cell_type": "code",
   "execution_count": 393,
   "metadata": {},
   "outputs": [
    {
     "data": {
      "text/plain": [
       "array([ True,  True, False, False, False,  True])"
      ]
     },
     "execution_count": 393,
     "metadata": {},
     "output_type": "execute_result"
    }
   ],
   "source": [
    "np.logical_xor(t3,t4) #Realizo la operacion XOR entre los arrays t3 y t4"
   ]
  }
 ],
 "metadata": {
  "kernelspec": {
   "display_name": "Python 3",
   "language": "python",
   "name": "python3"
  },
  "language_info": {
   "codemirror_mode": {
    "name": "ipython",
    "version": 3
   },
   "file_extension": ".py",
   "mimetype": "text/x-python",
   "name": "python",
   "nbconvert_exporter": "python",
   "pygments_lexer": "ipython3",
   "version": "3.7.1"
  }
 },
 "nbformat": 4,
 "nbformat_minor": 2
}
